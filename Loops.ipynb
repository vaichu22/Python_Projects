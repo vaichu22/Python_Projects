{
 "cells": [
  {
   "cell_type": "code",
   "execution_count": 1,
   "metadata": {},
   "outputs": [
    {
     "name": "stdout",
     "output_type": "stream",
     "text": [
      "True it is!\n"
     ]
    }
   ],
   "source": [
    "if True:\n",
    "    print(\"True it is!\")"
   ]
  },
  {
   "cell_type": "code",
   "execution_count": 5,
   "metadata": {},
   "outputs": [
    {
     "name": "stdout",
     "output_type": "stream",
     "text": [
      "True it is\n"
     ]
    }
   ],
   "source": [
    "if not False:\n",
    "    print('True it is')"
   ]
  },
  {
   "cell_type": "code",
   "execution_count": 8,
   "metadata": {},
   "outputs": [
    {
     "name": "stdout",
     "output_type": "stream",
     "text": [
      "True\n"
     ]
    }
   ],
   "source": [
    "bools=True\n",
    "\n",
    "if bools:\n",
    "    print(\"True\")\n",
    "else:\n",
    "    print(\"False\")\n",
    "\n"
   ]
  },
  {
   "cell_type": "code",
   "execution_count": 9,
   "metadata": {},
   "outputs": [
    {
     "name": "stdout",
     "output_type": "stream",
     "text": [
      "Hey frankie\n"
     ]
    }
   ],
   "source": [
    "name='Frankie'\n",
    "\n",
    "if name=='Frankie':\n",
    "    print(\"Hey frankie\")\n",
    "elif name=='Sammy':\n",
    "    print(\"Hey Sammy\")\n",
    "else:\n",
    "    print(\"what is ur name?\")"
   ]
  },
  {
   "cell_type": "code",
   "execution_count": 1,
   "metadata": {},
   "outputs": [
    {
     "name": "stdout",
     "output_type": "stream",
     "text": [
      "1\n",
      "2\n",
      "3\n",
      "4\n",
      "5\n"
     ]
    }
   ],
   "source": [
    "list=[1,2,3,4,5]\n",
    "\n",
    "for i in list:\n",
    "    print(i)"
   ]
  },
  {
   "cell_type": "code",
   "execution_count": 2,
   "metadata": {},
   "outputs": [
    {
     "name": "stdout",
     "output_type": "stream",
     "text": [
      "Cool\n",
      "Cool\n",
      "Cool\n",
      "Cool\n",
      "Cool\n"
     ]
    }
   ],
   "source": [
    "list=[1,2,3,4,5]\n",
    "\n",
    "for i in list:\n",
    "    print('Cool')"
   ]
  },
  {
   "cell_type": "code",
   "execution_count": 3,
   "metadata": {},
   "outputs": [
    {
     "name": "stdout",
     "output_type": "stream",
     "text": [
      "5\n",
      "5\n",
      "5\n",
      "5\n",
      "5\n"
     ]
    }
   ],
   "source": [
    "list=[1,2,3,4,5]\n",
    "\n",
    "for _ in list:\n",
    "    print(i)"
   ]
  },
  {
   "cell_type": "code",
   "execution_count": 1,
   "metadata": {},
   "outputs": [
    {
     "name": "stdout",
     "output_type": "stream",
     "text": [
      "6\n",
      "7\n",
      "8\n",
      "9\n",
      "0\n"
     ]
    }
   ],
   "source": [
    "list=[6,7,8,9,0]\n",
    "\n",
    "for i in list:\n",
    "    print(i)"
   ]
  },
  {
   "cell_type": "code",
   "execution_count": 7,
   "metadata": {},
   "outputs": [
    {
     "name": "stdout",
     "output_type": "stream",
     "text": [
      "H\n",
      "e\n",
      "l\n",
      "l\n",
      "o\n"
     ]
    }
   ],
   "source": [
    "for i in 'Hello':\n",
    "    print(i)"
   ]
  },
  {
   "cell_type": "code",
   "execution_count": 8,
   "metadata": {},
   "outputs": [
    {
     "name": "stdout",
     "output_type": "stream",
     "text": [
      "o\n",
      "o\n",
      "o\n",
      "o\n",
      "o\n"
     ]
    }
   ],
   "source": [
    "value=\"Hello\"\n",
    "\n",
    "for i in value:\n",
    "    print(value[4])\n",
    "    "
   ]
  },
  {
   "cell_type": "code",
   "execution_count": 9,
   "metadata": {},
   "outputs": [],
   "source": [
    "tup=(1,2,3)"
   ]
  },
  {
   "cell_type": "code",
   "execution_count": 10,
   "metadata": {},
   "outputs": [
    {
     "name": "stdout",
     "output_type": "stream",
     "text": [
      "1\n",
      "2\n",
      "3\n"
     ]
    }
   ],
   "source": [
    "for i in tup:\n",
    "    print(i)"
   ]
  },
  {
   "cell_type": "code",
   "execution_count": 6,
   "metadata": {},
   "outputs": [
    {
     "name": "stdout",
     "output_type": "stream",
     "text": [
      "1\n",
      "2\n",
      "3\n",
      "4\n"
     ]
    }
   ],
   "source": [
    "tup=[(1,2),(3,4)]\n",
    "\n",
    "for a,b in tup:\n",
    "    print(a)\n",
    "    print(b)"
   ]
  },
  {
   "cell_type": "code",
   "execution_count": 12,
   "metadata": {},
   "outputs": [
    {
     "name": "stdout",
     "output_type": "stream",
     "text": [
      "(1, 2)\n",
      "(3, 4)\n"
     ]
    }
   ],
   "source": [
    "for i in tup:\n",
    "    print(i)"
   ]
  },
  {
   "cell_type": "code",
   "execution_count": 54,
   "metadata": {},
   "outputs": [
    {
     "name": "stdout",
     "output_type": "stream",
     "text": [
      "5\n",
      "4\n"
     ]
    }
   ],
   "source": [
    "tup=[(1,2),(3,4)]\n",
    "\n",
    "for a,b in [(5,4)]:\n",
    "    print(a)\n",
    "    print(b)"
   ]
  },
  {
   "cell_type": "code",
   "execution_count": 14,
   "metadata": {},
   "outputs": [
    {
     "ename": "ValueError",
     "evalue": "not enough values to unpack (expected 4, got 2)",
     "output_type": "error",
     "traceback": [
      "\u001b[0;31m---------------------------------------------------------------------------\u001b[0m",
      "\u001b[0;31mValueError\u001b[0m                                Traceback (most recent call last)",
      "\u001b[0;32m<ipython-input-14-5ca1b8e64b7d>\u001b[0m in \u001b[0;36m<module>\u001b[0;34m()\u001b[0m\n\u001b[1;32m      1\u001b[0m \u001b[0mtup\u001b[0m\u001b[0;34m=\u001b[0m\u001b[0;34m[\u001b[0m\u001b[0;34m(\u001b[0m\u001b[0;36m1\u001b[0m\u001b[0;34m,\u001b[0m\u001b[0;36m2\u001b[0m\u001b[0;34m)\u001b[0m\u001b[0;34m,\u001b[0m\u001b[0;34m(\u001b[0m\u001b[0;36m3\u001b[0m\u001b[0;34m,\u001b[0m\u001b[0;36m4\u001b[0m\u001b[0;34m,\u001b[0m\u001b[0;36m5\u001b[0m\u001b[0;34m)\u001b[0m\u001b[0;34m,\u001b[0m\u001b[0;34m(\u001b[0m\u001b[0;36m6\u001b[0m\u001b[0;34m,\u001b[0m\u001b[0;36m7\u001b[0m\u001b[0;34m)\u001b[0m\u001b[0;34m,\u001b[0m\u001b[0;34m(\u001b[0m\u001b[0;36m8\u001b[0m\u001b[0;34m,\u001b[0m\u001b[0;36m9\u001b[0m\u001b[0;34m,\u001b[0m\u001b[0;36m10\u001b[0m\u001b[0;34m,\u001b[0m\u001b[0;36m11\u001b[0m\u001b[0;34m)\u001b[0m\u001b[0;34m]\u001b[0m\u001b[0;34m\u001b[0m\u001b[0m\n\u001b[1;32m      2\u001b[0m \u001b[0;34m\u001b[0m\u001b[0m\n\u001b[0;32m----> 3\u001b[0;31m \u001b[0;32mfor\u001b[0m \u001b[0ma\u001b[0m\u001b[0;34m,\u001b[0m\u001b[0mb\u001b[0m\u001b[0;34m,\u001b[0m\u001b[0mc\u001b[0m\u001b[0;34m,\u001b[0m\u001b[0md\u001b[0m \u001b[0;32min\u001b[0m \u001b[0mtup\u001b[0m\u001b[0;34m:\u001b[0m\u001b[0;34m\u001b[0m\u001b[0m\n\u001b[0m\u001b[1;32m      4\u001b[0m     \u001b[0mprint\u001b[0m\u001b[0;34m(\u001b[0m\u001b[0ma\u001b[0m\u001b[0;34m)\u001b[0m\u001b[0;34m\u001b[0m\u001b[0m\n\u001b[1;32m      5\u001b[0m     \u001b[0mprint\u001b[0m\u001b[0;34m(\u001b[0m\u001b[0mb\u001b[0m\u001b[0;34m)\u001b[0m\u001b[0;34m\u001b[0m\u001b[0m\n",
      "\u001b[0;31mValueError\u001b[0m: not enough values to unpack (expected 4, got 2)"
     ]
    }
   ],
   "source": [
    "tup=[(1,2),(3,4,5),(6,7),(8,9,10,11)]\n",
    "\n",
    "for a,b,c,d in tup:\n",
    "    print(a)\n",
    "    print(b)\n",
    "    print(c)\n",
    "    print(d)"
   ]
  },
  {
   "cell_type": "code",
   "execution_count": 28,
   "metadata": {},
   "outputs": [
    {
     "data": {
      "text/plain": [
       "1"
      ]
     },
     "execution_count": 28,
     "metadata": {},
     "output_type": "execute_result"
    }
   ],
   "source": [
    "tup=[(1,2),(3,4,5),(6,7),(8,9,10,11)]\n",
    "\n",
    "tup.count(tup[1])"
   ]
  },
  {
   "cell_type": "code",
   "execution_count": 17,
   "metadata": {},
   "outputs": [
    {
     "data": {
      "text/plain": [
       "(1, 2)"
      ]
     },
     "execution_count": 17,
     "metadata": {},
     "output_type": "execute_result"
    }
   ],
   "source": [
    "tup[0]"
   ]
  },
  {
   "cell_type": "code",
   "execution_count": 18,
   "metadata": {},
   "outputs": [
    {
     "data": {
      "text/plain": [
       "1"
      ]
     },
     "execution_count": 18,
     "metadata": {},
     "output_type": "execute_result"
    }
   ],
   "source": [
    "tup[0][0]"
   ]
  },
  {
   "cell_type": "code",
   "execution_count": 19,
   "metadata": {},
   "outputs": [
    {
     "data": {
      "text/plain": [
       "2"
      ]
     },
     "execution_count": 19,
     "metadata": {},
     "output_type": "execute_result"
    }
   ],
   "source": [
    "tup[0][1]"
   ]
  },
  {
   "cell_type": "code",
   "execution_count": 24,
   "metadata": {},
   "outputs": [
    {
     "data": {
      "text/plain": [
       "(1, 2)"
      ]
     },
     "execution_count": 24,
     "metadata": {},
     "output_type": "execute_result"
    }
   ],
   "source": [
    "tup[0]"
   ]
  },
  {
   "cell_type": "code",
   "execution_count": 25,
   "metadata": {},
   "outputs": [
    {
     "data": {
      "text/plain": [
       "0"
      ]
     },
     "execution_count": 25,
     "metadata": {},
     "output_type": "execute_result"
    }
   ],
   "source": [
    "tup.count(1)"
   ]
  },
  {
   "cell_type": "code",
   "execution_count": 26,
   "metadata": {},
   "outputs": [
    {
     "name": "stdout",
     "output_type": "stream",
     "text": [
      "3\n"
     ]
    }
   ],
   "source": [
    "tup=(1,3,5)\n",
    "\n",
    "sum=0\n",
    "\n",
    "for i in tup:\n",
    "    sum=sum+1\n",
    "print(sum)"
   ]
  },
  {
   "cell_type": "code",
   "execution_count": 50,
   "metadata": {},
   "outputs": [
    {
     "name": "stdout",
     "output_type": "stream",
     "text": [
      "2\n",
      "2\n",
      "(1, 2)\n"
     ]
    },
    {
     "ename": "TypeError",
     "evalue": "cannot unpack non-iterable int object",
     "output_type": "error",
     "traceback": [
      "\u001b[0;31m---------------------------------------------------------------------------\u001b[0m",
      "\u001b[0;31mTypeError\u001b[0m                                 Traceback (most recent call last)",
      "\u001b[0;32m<ipython-input-50-a7be587f03c7>\u001b[0m in \u001b[0;36m<module>\u001b[0;34m()\u001b[0m\n\u001b[1;32m     10\u001b[0m     \u001b[0mprint\u001b[0m\u001b[0;34m(\u001b[0m\u001b[0mtup\u001b[0m\u001b[0;34m)\u001b[0m\u001b[0;34m\u001b[0m\u001b[0m\n\u001b[1;32m     11\u001b[0m     \u001b[0;32mif\u001b[0m \u001b[0mlen\u001b[0m\u001b[0;34m(\u001b[0m\u001b[0mtup\u001b[0m\u001b[0;34m)\u001b[0m\u001b[0;34m==\u001b[0m\u001b[0;36m2\u001b[0m\u001b[0;34m:\u001b[0m\u001b[0;34m\u001b[0m\u001b[0m\n\u001b[0;32m---> 12\u001b[0;31m         \u001b[0;32mfor\u001b[0m \u001b[0ma\u001b[0m\u001b[0;34m,\u001b[0m\u001b[0mb\u001b[0m \u001b[0;32min\u001b[0m \u001b[0;34m(\u001b[0m\u001b[0;36m1\u001b[0m\u001b[0;34m,\u001b[0m\u001b[0;36m2\u001b[0m\u001b[0;34m)\u001b[0m\u001b[0;34m:\u001b[0m\u001b[0;34m\u001b[0m\u001b[0m\n\u001b[0m\u001b[1;32m     13\u001b[0m             \u001b[0mprint\u001b[0m\u001b[0;34m(\u001b[0m\u001b[0ma\u001b[0m\u001b[0;34m)\u001b[0m\u001b[0;34m\u001b[0m\u001b[0m\n\u001b[1;32m     14\u001b[0m             \u001b[0mprint\u001b[0m\u001b[0;34m(\u001b[0m\u001b[0mb\u001b[0m\u001b[0;34m)\u001b[0m\u001b[0;34m\u001b[0m\u001b[0m\n",
      "\u001b[0;31mTypeError\u001b[0m: cannot unpack non-iterable int object"
     ]
    }
   ],
   "source": [
    "list1=[(1,2),(3,4,5),(6,7),(8,9,10,11)]\n",
    "\n",
    "for i in list1:\n",
    "    tup=i\n",
    "    print(len(tup))\n",
    "    sum=0\n",
    "    for j in tup:\n",
    "        sum=sum+1\n",
    "    print(sum)\n",
    "    print(tup)\n",
    "    if len(tup)==2:\n",
    "        for a,b in (1,2):\n",
    "            print(a)\n",
    "            print(b)\n",
    "    elif sum==3:\n",
    "        for a,b,c in tup:\n",
    "            print(a)\n",
    "            print(b)\n",
    "            print(c)\n",
    "    elif sum==4:\n",
    "        for a,b,c,d in tup:\n",
    "            print(a)\n",
    "            print(b)\n",
    "            print(c)\n",
    "            print(d)"
   ]
  },
  {
   "cell_type": "code",
   "execution_count": 51,
   "metadata": {},
   "outputs": [
    {
     "ename": "TypeError",
     "evalue": "cannot unpack non-iterable int object",
     "output_type": "error",
     "traceback": [
      "\u001b[0;31m---------------------------------------------------------------------------\u001b[0m",
      "\u001b[0;31mTypeError\u001b[0m                                 Traceback (most recent call last)",
      "\u001b[0;32m<ipython-input-51-9abbc3301000>\u001b[0m in \u001b[0;36m<module>\u001b[0;34m()\u001b[0m\n\u001b[0;32m----> 1\u001b[0;31m \u001b[0;32mfor\u001b[0m\u001b[0;34m(\u001b[0m\u001b[0ma\u001b[0m\u001b[0;34m,\u001b[0m\u001b[0mb\u001b[0m\u001b[0;34m)\u001b[0m \u001b[0;32min\u001b[0m \u001b[0;34m(\u001b[0m\u001b[0;36m1\u001b[0m\u001b[0;34m,\u001b[0m\u001b[0;36m2\u001b[0m\u001b[0;34m)\u001b[0m\u001b[0;34m:\u001b[0m\u001b[0;34m\u001b[0m\u001b[0m\n\u001b[0m\u001b[1;32m      2\u001b[0m     \u001b[0mprint\u001b[0m\u001b[0;34m(\u001b[0m\u001b[0ma\u001b[0m\u001b[0;34m)\u001b[0m\u001b[0;34m\u001b[0m\u001b[0m\n\u001b[1;32m      3\u001b[0m     \u001b[0mprint\u001b[0m\u001b[0;34m(\u001b[0m\u001b[0mb\u001b[0m\u001b[0;34m)\u001b[0m\u001b[0;34m\u001b[0m\u001b[0m\n",
      "\u001b[0;31mTypeError\u001b[0m: cannot unpack non-iterable int object"
     ]
    }
   ],
   "source": [
    "for(a,b) in (1,2):\n",
    "    print(a)\n",
    "    print(b)"
   ]
  },
  {
   "cell_type": "code",
   "execution_count": 1,
   "metadata": {},
   "outputs": [
    {
     "name": "stdout",
     "output_type": "stream",
     "text": [
      "(1, 2)\n",
      "(3, 4, 5)\n",
      "(6, 7)\n",
      "(8, 9, 0, 1)\n"
     ]
    }
   ],
   "source": [
    "list1=[(1,2),(3,4,5),(6,7),(8,9,0,1)]\n",
    "\n",
    "\n",
    "for i in list1:\n",
    "    print(i)"
   ]
  },
  {
   "cell_type": "code",
   "execution_count": 2,
   "metadata": {},
   "outputs": [
    {
     "name": "stdout",
     "output_type": "stream",
     "text": [
      "[(1, 2, 3)]\n"
     ]
    }
   ],
   "source": [
    "tup=(1,2,3)\n",
    "\n",
    "list11=[tup]\n",
    "print(list11)"
   ]
  },
  {
   "cell_type": "code",
   "execution_count": 7,
   "metadata": {},
   "outputs": [
    {
     "name": "stdout",
     "output_type": "stream",
     "text": [
      "1\n",
      "2\n",
      "3\n",
      "4\n",
      "5\n",
      "6\n",
      "7\n",
      "8\n",
      "9\n",
      "0\n",
      "1\n"
     ]
    }
   ],
   "source": [
    "list1=[(1,2),(3,4,5),(6,7),(8,9,0,1)]\n",
    "\n",
    "\n",
    "for i in list1:\n",
    "    #print(i)\n",
    "    length=len(i)\n",
    "    #print(length)\n",
    "    list2=[i]\n",
    "    #print(list2)\n",
    "    \n",
    "    if(length==2):\n",
    "        for a,b in list2:\n",
    "            print(a)\n",
    "            print(b)\n",
    "    elif(length==3):\n",
    "        for a,b,c in list2:\n",
    "            print(a)\n",
    "            print(b)\n",
    "            print(c)\n",
    "    elif(length==4):\n",
    "        for a,b,c,d in list2:\n",
    "            print(a)\n",
    "            print(b)\n",
    "            print(c)\n",
    "            print(d)"
   ]
  },
  {
   "cell_type": "code",
   "execution_count": 8,
   "metadata": {},
   "outputs": [
    {
     "name": "stdout",
     "output_type": "stream",
     "text": [
      "S\n",
      "t\n",
      "r\n",
      "i\n",
      "n\n",
      "g\n",
      "s\n"
     ]
    }
   ],
   "source": [
    "for i in \"Strings\":\n",
    "    print(i)"
   ]
  },
  {
   "cell_type": "code",
   "execution_count": 9,
   "metadata": {},
   "outputs": [
    {
     "ename": "SyntaxError",
     "evalue": "unexpected EOF while parsing (<ipython-input-9-38812e5e9c6e>, line 2)",
     "output_type": "error",
     "traceback": [
      "\u001b[0;36m  File \u001b[0;32m\"<ipython-input-9-38812e5e9c6e>\"\u001b[0;36m, line \u001b[0;32m2\u001b[0m\n\u001b[0;31m    \u001b[0m\n\u001b[0m    ^\u001b[0m\n\u001b[0;31mSyntaxError\u001b[0m\u001b[0;31m:\u001b[0m unexpected EOF while parsing\n"
     ]
    }
   ],
   "source": [
    "for i in \"Strings\":\n",
    "    "
   ]
  },
  {
   "cell_type": "code",
   "execution_count": 10,
   "metadata": {},
   "outputs": [
    {
     "name": "stdout",
     "output_type": "stream",
     "text": [
      "NO syntax error for empty for loop since PASS is given\n"
     ]
    }
   ],
   "source": [
    "for i in \"Strings\":\n",
    "    pass\n",
    "print(\"NO syntax error for empty for loop since PASS is given\")"
   ]
  },
  {
   "cell_type": "code",
   "execution_count": 11,
   "metadata": {},
   "outputs": [
    {
     "name": "stdout",
     "output_type": "stream",
     "text": [
      "0\n",
      "1\n",
      "2\n",
      "3\n",
      "4\n",
      "Not less than 5\n"
     ]
    }
   ],
   "source": [
    "x=0\n",
    "\n",
    "while x<5:\n",
    "    print(x)\n",
    "    x+=1\n",
    "else:\n",
    "    print(\"Not less than 5\")"
   ]
  },
  {
   "cell_type": "code",
   "execution_count": 12,
   "metadata": {},
   "outputs": [
    {
     "name": "stdout",
     "output_type": "stream",
     "text": [
      "S\n",
      "a\n",
      "m\n",
      "m\n",
      "y\n"
     ]
    }
   ],
   "source": [
    "name=\"Sammy\"\n",
    "\n",
    "for i in name:\n",
    "    print(i)"
   ]
  },
  {
   "cell_type": "code",
   "execution_count": 13,
   "metadata": {},
   "outputs": [
    {
     "name": "stdout",
     "output_type": "stream",
     "text": [
      "S\n",
      "m\n",
      "m\n",
      "y\n"
     ]
    }
   ],
   "source": [
    "name=\"Sammy\"\n",
    "\n",
    "for i in name:\n",
    "    if i==\"a\":\n",
    "        continue\n",
    "    print(i)"
   ]
  },
  {
   "cell_type": "code",
   "execution_count": 14,
   "metadata": {},
   "outputs": [
    {
     "name": "stdout",
     "output_type": "stream",
     "text": [
      "S\n",
      "a\n",
      "y\n"
     ]
    }
   ],
   "source": [
    "name=\"Sammy\"\n",
    "\n",
    "for i in name:\n",
    "    if i==\"m\":\n",
    "        continue\n",
    "    print(i)"
   ]
  },
  {
   "cell_type": "code",
   "execution_count": 15,
   "metadata": {},
   "outputs": [
    {
     "name": "stdout",
     "output_type": "stream",
     "text": [
      "S\n"
     ]
    }
   ],
   "source": [
    "ame=\"Sammy\"\n",
    "\n",
    "for i in name:\n",
    "    if i==\"a\":\n",
    "        break\n",
    "    print(i)"
   ]
  },
  {
   "cell_type": "code",
   "execution_count": 18,
   "metadata": {},
   "outputs": [
    {
     "name": "stdout",
     "output_type": "stream",
     "text": [
      "0\n",
      "2\n",
      "4\n",
      "6\n",
      "8\n"
     ]
    }
   ],
   "source": [
    "for i in range(0,10,2):\n",
    "    print(i)"
   ]
  },
  {
   "cell_type": "code",
   "execution_count": 19,
   "metadata": {},
   "outputs": [
    {
     "data": {
      "text/plain": [
       "range(0, 10, 2)"
      ]
     },
     "execution_count": 19,
     "metadata": {},
     "output_type": "execute_result"
    }
   ],
   "source": [
    "range(0,10,2)"
   ]
  },
  {
   "cell_type": "code",
   "execution_count": 20,
   "metadata": {},
   "outputs": [
    {
     "data": {
      "text/plain": [
       "[0, 2, 4, 6, 8]"
      ]
     },
     "execution_count": 20,
     "metadata": {},
     "output_type": "execute_result"
    }
   ],
   "source": [
    "list(range(0,10,2))"
   ]
  },
  {
   "cell_type": "code",
   "execution_count": 30,
   "metadata": {},
   "outputs": [
    {
     "name": "stdout",
     "output_type": "stream",
     "text": [
      "0\n",
      "v\n",
      "1\n",
      "a\n",
      "2\n",
      "i\n",
      "3\n",
      "s\n",
      "4\n",
      "h\n",
      "5\n",
      "u\n"
     ]
    }
   ],
   "source": [
    "name=\"vaishu\"\n",
    "\n",
    "for a,i in enumerate(name):\n",
    "    print(a)\n",
    "    print(i)\n",
    "    "
   ]
  },
  {
   "cell_type": "code",
   "execution_count": 31,
   "metadata": {},
   "outputs": [
    {
     "name": "stdout",
     "output_type": "stream",
     "text": [
      "(1, 'a')\n",
      "(2, 'b')\n",
      "(3, 'c')\n"
     ]
    }
   ],
   "source": [
    "mylist1=[1,2,3]\n",
    "mylist2=['a','b','c']\n",
    "mylist3=[100,200,300]\n",
    "\n",
    "for i in zip(mylist1,mylist2):\n",
    "    print(i)"
   ]
  },
  {
   "cell_type": "code",
   "execution_count": 32,
   "metadata": {},
   "outputs": [
    {
     "data": {
      "text/plain": [
       "[(1, 'a'), (2, 'b'), (3, 'c')]"
      ]
     },
     "execution_count": 32,
     "metadata": {},
     "output_type": "execute_result"
    }
   ],
   "source": [
    "list(zip(mylist1,mylist2))"
   ]
  },
  {
   "cell_type": "code",
   "execution_count": 34,
   "metadata": {},
   "outputs": [
    {
     "name": "stdout",
     "output_type": "stream",
     "text": [
      "1\n",
      "a\n",
      "2\n",
      "b\n",
      "3\n",
      "c\n"
     ]
    }
   ],
   "source": [
    "mylist1=[1,2,3]\n",
    "mylist2=['a','b','c']\n",
    "mylist3=[100,200,300]\n",
    "\n",
    "for a,b in zip(mylist1,mylist2):\n",
    "    print(a)\n",
    "    print(b)\n"
   ]
  },
  {
   "cell_type": "code",
   "execution_count": 38,
   "metadata": {},
   "outputs": [
    {
     "data": {
      "text/plain": [
       "True"
      ]
     },
     "execution_count": 38,
     "metadata": {},
     "output_type": "execute_result"
    }
   ],
   "source": [
    "d={'key1':910}\n",
    "\n",
    "910 in d.values()"
   ]
  },
  {
   "cell_type": "code",
   "execution_count": 39,
   "metadata": {},
   "outputs": [
    {
     "data": {
      "text/plain": [
       "True"
      ]
     },
     "execution_count": 39,
     "metadata": {},
     "output_type": "execute_result"
    }
   ],
   "source": [
    "'a' in 'ambassidor'"
   ]
  },
  {
   "cell_type": "code",
   "execution_count": 40,
   "metadata": {},
   "outputs": [],
   "source": [
    "value=[1,2,3,4,5]\n",
    "\n",
    "from random import shuffle\n",
    "\n",
    "shuffle(value)"
   ]
  },
  {
   "cell_type": "code",
   "execution_count": 41,
   "metadata": {},
   "outputs": [
    {
     "data": {
      "text/plain": [
       "[5, 2, 1, 4, 3]"
      ]
     },
     "execution_count": 41,
     "metadata": {},
     "output_type": "execute_result"
    }
   ],
   "source": [
    "value"
   ]
  },
  {
   "cell_type": "code",
   "execution_count": 45,
   "metadata": {},
   "outputs": [
    {
     "data": {
      "text/plain": [
       "48"
      ]
     },
     "execution_count": 45,
     "metadata": {},
     "output_type": "execute_result"
    }
   ],
   "source": [
    "value=[1,2,3,4,5]\n",
    "\n",
    "from random import randint\n",
    "\n",
    "randint(0,100)"
   ]
  },
  {
   "cell_type": "code",
   "execution_count": 46,
   "metadata": {},
   "outputs": [],
   "source": [
    "result=randint(0,100)"
   ]
  },
  {
   "cell_type": "code",
   "execution_count": 47,
   "metadata": {},
   "outputs": [
    {
     "data": {
      "text/plain": [
       "73"
      ]
     },
     "execution_count": 47,
     "metadata": {},
     "output_type": "execute_result"
    }
   ],
   "source": [
    "result"
   ]
  },
  {
   "cell_type": "code",
   "execution_count": 48,
   "metadata": {},
   "outputs": [
    {
     "name": "stdout",
     "output_type": "stream",
     "text": [
      "Enter your name:vaishu\n"
     ]
    },
    {
     "data": {
      "text/plain": [
       "'vaishu'"
      ]
     },
     "execution_count": 48,
     "metadata": {},
     "output_type": "execute_result"
    }
   ],
   "source": [
    "input(\"Enter your name:\")"
   ]
  },
  {
   "cell_type": "code",
   "execution_count": 49,
   "metadata": {},
   "outputs": [
    {
     "name": "stdout",
     "output_type": "stream",
     "text": [
      "Enter the numner10\n"
     ]
    },
    {
     "data": {
      "text/plain": [
       "'10'"
      ]
     },
     "execution_count": 49,
     "metadata": {},
     "output_type": "execute_result"
    }
   ],
   "source": [
    "input(\"Enter the numner\")"
   ]
  },
  {
   "cell_type": "code",
   "execution_count": 50,
   "metadata": {},
   "outputs": [
    {
     "name": "stdout",
     "output_type": "stream",
     "text": [
      "ENter the value:234\n"
     ]
    }
   ],
   "source": [
    "result=input(\"ENter the value:\")"
   ]
  },
  {
   "cell_type": "raw",
   "metadata": {},
   "source": [
    "result"
   ]
  },
  {
   "cell_type": "code",
   "execution_count": 51,
   "metadata": {},
   "outputs": [
    {
     "name": "stdout",
     "output_type": "stream",
     "text": [
      "ENter the value:678\n"
     ]
    }
   ],
   "source": [
    "result=input(\"ENter the value:\")"
   ]
  },
  {
   "cell_type": "code",
   "execution_count": 52,
   "metadata": {},
   "outputs": [
    {
     "data": {
      "text/plain": [
       "'678'"
      ]
     },
     "execution_count": 52,
     "metadata": {},
     "output_type": "execute_result"
    }
   ],
   "source": [
    "result"
   ]
  },
  {
   "cell_type": "code",
   "execution_count": 53,
   "metadata": {},
   "outputs": [
    {
     "data": {
      "text/plain": [
       "678"
      ]
     },
     "execution_count": 53,
     "metadata": {},
     "output_type": "execute_result"
    }
   ],
   "source": [
    "int(result)"
   ]
  },
  {
   "cell_type": "code",
   "execution_count": 417,
   "metadata": {},
   "outputs": [
    {
     "name": "stdout",
     "output_type": "stream",
     "text": [
      "(0, 'a')\n",
      "(1, 'b')\n"
     ]
    }
   ],
   "source": [
    "value=['a','b']\n",
    "\n",
    "for i in enumerate(value):\n",
    "    print(i)"
   ]
  },
  {
   "cell_type": "code",
   "execution_count": 418,
   "metadata": {},
   "outputs": [
    {
     "name": "stdout",
     "output_type": "stream",
     "text": [
      "0\n",
      "a\n",
      "1\n",
      "b\n"
     ]
    }
   ],
   "source": [
    "value=['a','b']\n",
    "\n",
    "for a,b in enumerate(value):\n",
    "    print(a)\n",
    "    print(b)"
   ]
  },
  {
   "cell_type": "code",
   "execution_count": 56,
   "metadata": {},
   "outputs": [],
   "source": [
    "mystr=\"vaishu\"\n",
    "\n",
    "list1=[]\n",
    "\n",
    "for value in mystr:\n",
    "    list1.append(value)"
   ]
  },
  {
   "cell_type": "code",
   "execution_count": 57,
   "metadata": {},
   "outputs": [
    {
     "data": {
      "text/plain": [
       "['v', 'a', 'i', 's', 'h', 'u']"
      ]
     },
     "execution_count": 57,
     "metadata": {},
     "output_type": "execute_result"
    }
   ],
   "source": [
    "list1"
   ]
  },
  {
   "cell_type": "code",
   "execution_count": 58,
   "metadata": {},
   "outputs": [],
   "source": [
    "list2=[value for value in \"vishnu\"]"
   ]
  },
  {
   "cell_type": "code",
   "execution_count": 59,
   "metadata": {},
   "outputs": [
    {
     "data": {
      "text/plain": [
       "['v', 'i', 's', 'h', 'n', 'u']"
      ]
     },
     "execution_count": 59,
     "metadata": {},
     "output_type": "execute_result"
    }
   ],
   "source": [
    "list2"
   ]
  },
  {
   "cell_type": "code",
   "execution_count": 60,
   "metadata": {},
   "outputs": [],
   "source": [
    "number=[1,2,3,4,5]\n",
    "\n",
    "list3=[num for num in number]"
   ]
  },
  {
   "cell_type": "code",
   "execution_count": 61,
   "metadata": {},
   "outputs": [
    {
     "data": {
      "text/plain": [
       "[1, 2, 3, 4, 5]"
      ]
     },
     "execution_count": 61,
     "metadata": {},
     "output_type": "execute_result"
    }
   ],
   "source": [
    "list3"
   ]
  },
  {
   "cell_type": "code",
   "execution_count": 62,
   "metadata": {},
   "outputs": [],
   "source": [
    "list3=[num**2 for num in number]"
   ]
  },
  {
   "cell_type": "code",
   "execution_count": 63,
   "metadata": {},
   "outputs": [
    {
     "data": {
      "text/plain": [
       "[1, 4, 9, 16, 25]"
      ]
     },
     "execution_count": 63,
     "metadata": {},
     "output_type": "execute_result"
    }
   ],
   "source": [
    "list3"
   ]
  },
  {
   "cell_type": "code",
   "execution_count": 64,
   "metadata": {},
   "outputs": [],
   "source": [
    "list3=[num%2==0 for num in number]"
   ]
  },
  {
   "cell_type": "code",
   "execution_count": 65,
   "metadata": {},
   "outputs": [
    {
     "data": {
      "text/plain": [
       "[False, True, False, True, False]"
      ]
     },
     "execution_count": 65,
     "metadata": {},
     "output_type": "execute_result"
    }
   ],
   "source": [
    "list3"
   ]
  },
  {
   "cell_type": "code",
   "execution_count": 66,
   "metadata": {},
   "outputs": [],
   "source": [
    "list3=[num for num in number if num%2==0]"
   ]
  },
  {
   "cell_type": "code",
   "execution_count": 67,
   "metadata": {},
   "outputs": [
    {
     "data": {
      "text/plain": [
       "[2, 4]"
      ]
     },
     "execution_count": 67,
     "metadata": {},
     "output_type": "execute_result"
    }
   ],
   "source": [
    "list3"
   ]
  },
  {
   "cell_type": "code",
   "execution_count": 73,
   "metadata": {},
   "outputs": [],
   "source": [
    "st = 'Print only the words that start with s in this sentence'\n",
    "\n",
    "\n",
    "\n"
   ]
  },
  {
   "cell_type": "markdown",
   "metadata": {},
   "source": [
    "list1"
   ]
  },
  {
   "cell_type": "markdown",
   "metadata": {},
   "source": [
    "st\n",
    "\n"
   ]
  },
  {
   "cell_type": "code",
   "execution_count": 74,
   "metadata": {},
   "outputs": [
    {
     "name": "stdout",
     "output_type": "stream",
     "text": [
      "Print only the words that start with s in this sentence\n"
     ]
    }
   ],
   "source": [
    "print(st)"
   ]
  },
  {
   "cell_type": "code",
   "execution_count": 75,
   "metadata": {},
   "outputs": [],
   "source": [
    "list1=st.split()"
   ]
  },
  {
   "cell_type": "code",
   "execution_count": 76,
   "metadata": {},
   "outputs": [
    {
     "data": {
      "text/plain": [
       "['Print',\n",
       " 'only',\n",
       " 'the',\n",
       " 'words',\n",
       " 'that',\n",
       " 'start',\n",
       " 'with',\n",
       " 's',\n",
       " 'in',\n",
       " 'this',\n",
       " 'sentence']"
      ]
     },
     "execution_count": 76,
     "metadata": {},
     "output_type": "execute_result"
    }
   ],
   "source": [
    "list1"
   ]
  },
  {
   "cell_type": "code",
   "execution_count": 77,
   "metadata": {},
   "outputs": [
    {
     "name": "stdout",
     "output_type": "stream",
     "text": [
      "start\n",
      "s\n",
      "sentence\n"
     ]
    }
   ],
   "source": [
    "st = 'Print only the words that start with s in this sentence'\n",
    "\n",
    "list1=st.split()\n",
    "\n",
    "for i in list1:\n",
    "    if(i.startswith('s')):\n",
    "        print(i)"
   ]
  },
  {
   "cell_type": "code",
   "execution_count": 78,
   "metadata": {},
   "outputs": [
    {
     "name": "stdout",
     "output_type": "stream",
     "text": [
      "0\n",
      "2\n",
      "4\n",
      "6\n",
      "8\n"
     ]
    }
   ],
   "source": [
    "for i in range(0,10):\n",
    "    if(i%2==0):\n",
    "        print(i)"
   ]
  },
  {
   "cell_type": "code",
   "execution_count": 80,
   "metadata": {},
   "outputs": [],
   "source": [
    "list1=[x for x in range(1,50) if x%3==0]"
   ]
  },
  {
   "cell_type": "code",
   "execution_count": 81,
   "metadata": {},
   "outputs": [
    {
     "data": {
      "text/plain": [
       "[3, 6, 9, 12, 15, 18, 21, 24, 27, 30, 33, 36, 39, 42, 45, 48]"
      ]
     },
     "execution_count": 81,
     "metadata": {},
     "output_type": "execute_result"
    }
   ],
   "source": [
    "list1"
   ]
  },
  {
   "cell_type": "code",
   "execution_count": 85,
   "metadata": {},
   "outputs": [
    {
     "name": "stdout",
     "output_type": "stream",
     "text": [
      "word is even\n",
      "in is even\n",
      "this is even\n",
      "sentence is even\n",
      "that is even\n",
      "an is even\n",
      "even is even\n",
      "number is even\n",
      "of is even\n"
     ]
    }
   ],
   "source": [
    "st = 'Print every word in this sentence that has an even number of letters'\n",
    "\n",
    "list1=st.split()\n",
    "\n",
    "for i in list1:\n",
    "    length=len(i)\n",
    "    if(length%2==0):\n",
    "        print(f'{i} is even')"
   ]
  },
  {
   "cell_type": "code",
   "execution_count": 83,
   "metadata": {},
   "outputs": [
    {
     "data": {
      "text/plain": [
       "['Print',\n",
       " 'every',\n",
       " 'word',\n",
       " 'in',\n",
       " 'this',\n",
       " 'sentence',\n",
       " 'that',\n",
       " 'has',\n",
       " 'an',\n",
       " 'even',\n",
       " 'number',\n",
       " 'of',\n",
       " 'letters']"
      ]
     },
     "execution_count": 83,
     "metadata": {},
     "output_type": "execute_result"
    }
   ],
   "source": [
    "list1"
   ]
  },
  {
   "cell_type": "code",
   "execution_count": 87,
   "metadata": {},
   "outputs": [
    {
     "name": "stdout",
     "output_type": "stream",
     "text": [
      "1\n",
      "2\n",
      "Fizz\n",
      "4\n",
      "Buzz\n",
      "Fizz\n",
      "7\n",
      "8\n",
      "Fizz\n",
      "Buzz\n",
      "11\n",
      "Fizz\n",
      "13\n",
      "14\n",
      "FizzBuzz\n",
      "16\n",
      "17\n",
      "Fizz\n",
      "19\n",
      "Buzz\n",
      "Fizz\n",
      "22\n",
      "23\n",
      "Fizz\n",
      "Buzz\n",
      "26\n",
      "Fizz\n",
      "28\n",
      "29\n",
      "FizzBuzz\n",
      "31\n",
      "32\n",
      "Fizz\n",
      "34\n",
      "Buzz\n",
      "Fizz\n",
      "37\n",
      "38\n",
      "Fizz\n",
      "Buzz\n",
      "41\n",
      "Fizz\n",
      "43\n",
      "44\n",
      "FizzBuzz\n",
      "46\n",
      "47\n",
      "Fizz\n",
      "49\n",
      "Buzz\n",
      "Fizz\n",
      "52\n",
      "53\n",
      "Fizz\n",
      "Buzz\n",
      "56\n",
      "Fizz\n",
      "58\n",
      "59\n",
      "FizzBuzz\n",
      "61\n",
      "62\n",
      "Fizz\n",
      "64\n",
      "Buzz\n",
      "Fizz\n",
      "67\n",
      "68\n",
      "Fizz\n",
      "Buzz\n",
      "71\n",
      "Fizz\n",
      "73\n",
      "74\n",
      "FizzBuzz\n",
      "76\n",
      "77\n",
      "Fizz\n",
      "79\n",
      "Buzz\n",
      "Fizz\n",
      "82\n",
      "83\n",
      "Fizz\n",
      "Buzz\n",
      "86\n",
      "Fizz\n",
      "88\n",
      "89\n",
      "FizzBuzz\n",
      "91\n",
      "92\n",
      "Fizz\n",
      "94\n",
      "Buzz\n",
      "Fizz\n",
      "97\n",
      "98\n",
      "Fizz\n",
      "Buzz\n"
     ]
    }
   ],
   "source": [
    "num=range(1,101)\n",
    "\n",
    "for i in num:\n",
    "    if((i%3==0) and (i%5==0)):\n",
    "        print(\"FizzBuzz\")\n",
    "    elif(i%3==0):\n",
    "        print(\"Fizz\")\n",
    "    elif(i%5==0):\n",
    "        print(\"Buzz\")\n",
    "    else:\n",
    "        print(i)\n",
    "    "
   ]
  },
  {
   "cell_type": "code",
   "execution_count": 100,
   "metadata": {},
   "outputs": [],
   "source": [
    "st = 'Create a list of the first letters of every word in this string'\n",
    "\n",
    "list1=st.split()\n",
    "index=0\n",
    "list2=[]\n",
    "for i in list1:\n",
    "    list2.append(i[index])"
   ]
  },
  {
   "cell_type": "code",
   "execution_count": 99,
   "metadata": {},
   "outputs": [
    {
     "data": {
      "text/plain": [
       "['C', 'a', 'l', 'o', 't', 'f', 'l', 'o', 'e', 'w', 'i', 't', 's']"
      ]
     },
     "execution_count": 99,
     "metadata": {},
     "output_type": "execute_result"
    }
   ],
   "source": [
    "list2"
   ]
  },
  {
   "cell_type": "code",
   "execution_count": 101,
   "metadata": {},
   "outputs": [],
   "source": [
    "st = 'Create a list of the first letters of every word in this string'\n",
    "\n",
    "list1=st.split()\n",
    "index=0\n",
    "list2=[]\n",
    "for i in list1:\n",
    "    list2.append(i[index])"
   ]
  },
  {
   "cell_type": "code",
   "execution_count": 102,
   "metadata": {},
   "outputs": [
    {
     "data": {
      "text/plain": [
       "['C', 'a', 'l', 'o', 't', 'f', 'l', 'o', 'e', 'w', 'i', 't', 's']"
      ]
     },
     "execution_count": 102,
     "metadata": {},
     "output_type": "execute_result"
    }
   ],
   "source": [
    "list2"
   ]
  },
  {
   "cell_type": "code",
   "execution_count": 103,
   "metadata": {},
   "outputs": [],
   "source": [
    "list3=[i[0] for i in st]"
   ]
  },
  {
   "cell_type": "code",
   "execution_count": 104,
   "metadata": {},
   "outputs": [
    {
     "data": {
      "text/plain": [
       "['C',\n",
       " 'r',\n",
       " 'e',\n",
       " 'a',\n",
       " 't',\n",
       " 'e',\n",
       " ' ',\n",
       " 'a',\n",
       " ' ',\n",
       " 'l',\n",
       " 'i',\n",
       " 's',\n",
       " 't',\n",
       " ' ',\n",
       " 'o',\n",
       " 'f',\n",
       " ' ',\n",
       " 't',\n",
       " 'h',\n",
       " 'e',\n",
       " ' ',\n",
       " 'f',\n",
       " 'i',\n",
       " 'r',\n",
       " 's',\n",
       " 't',\n",
       " ' ',\n",
       " 'l',\n",
       " 'e',\n",
       " 't',\n",
       " 't',\n",
       " 'e',\n",
       " 'r',\n",
       " 's',\n",
       " ' ',\n",
       " 'o',\n",
       " 'f',\n",
       " ' ',\n",
       " 'e',\n",
       " 'v',\n",
       " 'e',\n",
       " 'r',\n",
       " 'y',\n",
       " ' ',\n",
       " 'w',\n",
       " 'o',\n",
       " 'r',\n",
       " 'd',\n",
       " ' ',\n",
       " 'i',\n",
       " 'n',\n",
       " ' ',\n",
       " 't',\n",
       " 'h',\n",
       " 'i',\n",
       " 's',\n",
       " ' ',\n",
       " 's',\n",
       " 't',\n",
       " 'r',\n",
       " 'i',\n",
       " 'n',\n",
       " 'g']"
      ]
     },
     "execution_count": 104,
     "metadata": {},
     "output_type": "execute_result"
    }
   ],
   "source": [
    "list3"
   ]
  },
  {
   "cell_type": "code",
   "execution_count": 107,
   "metadata": {},
   "outputs": [],
   "source": [
    "st = 'Create a list of the first letters of every word in this string'\n",
    "\n",
    "list1=st.split()\n",
    "\n",
    "list3=[i[0] for i in list1]"
   ]
  },
  {
   "cell_type": "code",
   "execution_count": 108,
   "metadata": {},
   "outputs": [
    {
     "data": {
      "text/plain": [
       "['C', 'a', 'l', 'o', 't', 'f', 'l', 'o', 'e', 'w', 'i', 't', 's']"
      ]
     },
     "execution_count": 108,
     "metadata": {},
     "output_type": "execute_result"
    }
   ],
   "source": [
    "list3"
   ]
  },
  {
   "cell_type": "code",
   "execution_count": 2,
   "metadata": {},
   "outputs": [],
   "source": [
    "list1=['a','e','i','o','u']\n",
    "\n",
    "def pig_latin(mystring):\n",
    "    if mystring[0] in list1:            # if mystring[0] in 'aeiou'\n",
    "        return mystring+'ay'\n",
    "    else:\n",
    "        return mystring[1:]+mystring[0]+'ay'"
   ]
  },
  {
   "cell_type": "code",
   "execution_count": 3,
   "metadata": {},
   "outputs": [],
   "source": [
    "result= pig_latin(\"apple\")"
   ]
  },
  {
   "cell_type": "code",
   "execution_count": 4,
   "metadata": {},
   "outputs": [
    {
     "data": {
      "text/plain": [
       "'appleay'"
      ]
     },
     "execution_count": 4,
     "metadata": {},
     "output_type": "execute_result"
    }
   ],
   "source": [
    "result"
   ]
  },
  {
   "cell_type": "code",
   "execution_count": 5,
   "metadata": {},
   "outputs": [],
   "source": [
    "result= pig_latin(\"word\")"
   ]
  },
  {
   "cell_type": "code",
   "execution_count": 6,
   "metadata": {},
   "outputs": [
    {
     "data": {
      "text/plain": [
       "'ordway'"
      ]
     },
     "execution_count": 6,
     "metadata": {},
     "output_type": "execute_result"
    }
   ],
   "source": [
    "result"
   ]
  },
  {
   "cell_type": "code",
   "execution_count": 7,
   "metadata": {},
   "outputs": [
    {
     "data": {
      "text/plain": [
       "'orangeay'"
      ]
     },
     "execution_count": 7,
     "metadata": {},
     "output_type": "execute_result"
    }
   ],
   "source": [
    "pig_latin(\"orange\")"
   ]
  },
  {
   "cell_type": "code",
   "execution_count": 3,
   "metadata": {},
   "outputs": [],
   "source": [
    "def myfunc(*args):\n",
    "    print(args)"
   ]
  },
  {
   "cell_type": "code",
   "execution_count": 4,
   "metadata": {},
   "outputs": [
    {
     "name": "stdout",
     "output_type": "stream",
     "text": [
      "(10, 20, 'asdf', 99, 'qwerty')\n"
     ]
    }
   ],
   "source": [
    "myfunc(10,20,'asdf',99,'qwerty')"
   ]
  },
  {
   "cell_type": "code",
   "execution_count": 5,
   "metadata": {},
   "outputs": [],
   "source": [
    "def myfuncc(**kwargs):\n",
    "    print(kwargs)"
   ]
  },
  {
   "cell_type": "code",
   "execution_count": 6,
   "metadata": {},
   "outputs": [
    {
     "name": "stdout",
     "output_type": "stream",
     "text": [
      "{'car': 'benz', 'name': 'vaishu', 'age': 22}\n"
     ]
    }
   ],
   "source": [
    "myfuncc(car='benz',name='vaishu',age=22)"
   ]
  },
  {
   "cell_type": "code",
   "execution_count": 7,
   "metadata": {},
   "outputs": [],
   "source": [
    "def sample(*args,**kwargs):\n",
    "    print('I would like to have {} {}'.format(args[1],kwargs['food']))"
   ]
  },
  {
   "cell_type": "code",
   "execution_count": 8,
   "metadata": {},
   "outputs": [
    {
     "name": "stdout",
     "output_type": "stream",
     "text": [
      "I would like to have 20 CHAPATHI\n"
     ]
    }
   ],
   "source": [
    "sample(10,20,35,school='NES',college='SASTRA',food='CHAPATHI')"
   ]
  },
  {
   "cell_type": "code",
   "execution_count": 9,
   "metadata": {},
   "outputs": [],
   "source": [
    "d={'key1': 'values1','name':'vaishu'}"
   ]
  },
  {
   "cell_type": "code",
   "execution_count": 10,
   "metadata": {},
   "outputs": [
    {
     "data": {
      "text/plain": [
       "'values1'"
      ]
     },
     "execution_count": 10,
     "metadata": {},
     "output_type": "execute_result"
    }
   ],
   "source": [
    "d['key1']"
   ]
  },
  {
   "cell_type": "code",
   "execution_count": 11,
   "metadata": {},
   "outputs": [
    {
     "data": {
      "text/plain": [
       "'vaishu'"
      ]
     },
     "execution_count": 11,
     "metadata": {},
     "output_type": "execute_result"
    }
   ],
   "source": [
    "d['name']"
   ]
  },
  {
   "cell_type": "code",
   "execution_count": 62,
   "metadata": {},
   "outputs": [],
   "source": [
    "def myfunc(*args):\n",
    "    list1=[]\n",
    "    for i in args:\n",
    "        list1.append(i)\n",
    "    print(list1)\n",
    "    list2=[y for y in list1 if y%2==0]\n",
    "    return list2\n",
    "        "
   ]
  },
  {
   "cell_type": "code",
   "execution_count": 63,
   "metadata": {},
   "outputs": [
    {
     "name": "stdout",
     "output_type": "stream",
     "text": [
      "[10, 3, 4, 567]\n"
     ]
    },
    {
     "data": {
      "text/plain": [
       "[10, 4]"
      ]
     },
     "execution_count": 63,
     "metadata": {},
     "output_type": "execute_result"
    }
   ],
   "source": [
    "myfunc(10,3,4,567)"
   ]
  },
  {
   "cell_type": "code",
   "execution_count": 51,
   "metadata": {},
   "outputs": [
    {
     "name": "stdout",
     "output_type": "stream",
     "text": [
      "56\n",
      "22\n"
     ]
    }
   ],
   "source": [
    "list3=[56,33,21,22]\n",
    "\n",
    "for i in list3:\n",
    "    if i%2==0:\n",
    "        print(i)"
   ]
  },
  {
   "cell_type": "code",
   "execution_count": 190,
   "metadata": {},
   "outputs": [],
   "source": [
    "def myfun(x):\n",
    "    list2=[]\n",
    "    str1=\"\"\n",
    "    for a,b in enumerate(x):\n",
    "        str1+=str(a)\n",
    "        for i in str1:\n",
    "            if i%2==0:\n",
    "                return b.lower()"
   ]
  },
  {
   "cell_type": "code",
   "execution_count": 191,
   "metadata": {},
   "outputs": [
    {
     "ename": "TypeError",
     "evalue": "not all arguments converted during string formatting",
     "output_type": "error",
     "traceback": [
      "\u001b[0;31m---------------------------------------------------------------------------\u001b[0m",
      "\u001b[0;31mTypeError\u001b[0m                                 Traceback (most recent call last)",
      "\u001b[0;32m<ipython-input-191-96f7a690235b>\u001b[0m in \u001b[0;36m<module>\u001b[0;34m()\u001b[0m\n\u001b[0;32m----> 1\u001b[0;31m \u001b[0mmyfun\u001b[0m\u001b[0;34m(\u001b[0m\u001b[0;34m'Vaishu'\u001b[0m\u001b[0;34m)\u001b[0m\u001b[0;34m\u001b[0m\u001b[0m\n\u001b[0m",
      "\u001b[0;32m<ipython-input-190-da20c47b0599>\u001b[0m in \u001b[0;36mmyfun\u001b[0;34m(x)\u001b[0m\n\u001b[1;32m      5\u001b[0m         \u001b[0mstr1\u001b[0m\u001b[0;34m+=\u001b[0m\u001b[0mstr\u001b[0m\u001b[0;34m(\u001b[0m\u001b[0ma\u001b[0m\u001b[0;34m)\u001b[0m\u001b[0;34m\u001b[0m\u001b[0m\n\u001b[1;32m      6\u001b[0m         \u001b[0;32mfor\u001b[0m \u001b[0mi\u001b[0m \u001b[0;32min\u001b[0m \u001b[0mstr1\u001b[0m\u001b[0;34m:\u001b[0m\u001b[0;34m\u001b[0m\u001b[0m\n\u001b[0;32m----> 7\u001b[0;31m             \u001b[0;32mif\u001b[0m \u001b[0mi\u001b[0m\u001b[0;34m%\u001b[0m\u001b[0;36m2\u001b[0m\u001b[0;34m==\u001b[0m\u001b[0;36m0\u001b[0m\u001b[0;34m:\u001b[0m\u001b[0;34m\u001b[0m\u001b[0m\n\u001b[0m\u001b[1;32m      8\u001b[0m                 \u001b[0;32mreturn\u001b[0m \u001b[0mb\u001b[0m\u001b[0;34m.\u001b[0m\u001b[0mlower\u001b[0m\u001b[0;34m(\u001b[0m\u001b[0;34m)\u001b[0m\u001b[0;34m\u001b[0m\u001b[0m\n",
      "\u001b[0;31mTypeError\u001b[0m: not all arguments converted during string formatting"
     ]
    }
   ],
   "source": [
    "myfun('Vaishu')"
   ]
  },
  {
   "cell_type": "code",
   "execution_count": 192,
   "metadata": {},
   "outputs": [],
   "source": [
    "def myfunc(x):\n",
    "    for a,b in enumerate(x):\n",
    "        #print(a, end='')\n",
    "        if a%2==0:\n",
    "            print(b.lower(), end='')\n",
    "        else:\n",
    "            print(b.upper(), end='')"
   ]
  },
  {
   "cell_type": "code",
   "execution_count": 193,
   "metadata": {},
   "outputs": [
    {
     "name": "stdout",
     "output_type": "stream",
     "text": [
      "aNtHrOpOmOrPhIsM"
     ]
    }
   ],
   "source": [
    "myfunc('Anthropomorphism')"
   ]
  },
  {
   "cell_type": "code",
   "execution_count": 180,
   "metadata": {},
   "outputs": [
    {
     "data": {
      "text/plain": [
       "'abc'"
      ]
     },
     "execution_count": 180,
     "metadata": {},
     "output_type": "execute_result"
    }
   ],
   "source": [
    "str1=\"\"\n",
    "\n",
    "str1.join(\"abc\")\n"
   ]
  },
  {
   "cell_type": "code",
   "execution_count": 189,
   "metadata": {},
   "outputs": [
    {
     "name": "stdout",
     "output_type": "stream",
     "text": [
      "0\n",
      "1\n",
      "2\n",
      "3\n",
      "4\n"
     ]
    }
   ],
   "source": [
    "for i in \"01234\":\n",
    "    print(i)"
   ]
  },
  {
   "cell_type": "code",
   "execution_count": 197,
   "metadata": {},
   "outputs": [],
   "source": [
    "def myfunc(string):\n",
    "     new_s= '' #empty string to hold further values\n",
    "     for i,l in enumerate(string): # enumerate returns both, index numbers and objects\n",
    "                                   # so i = index number and l = letter\n",
    "         if i%2==0: # if index number % 2 == 0 (even number)\n",
    "              new_s += l.upper() # add an upper cased letter to the new_s\n",
    "         else: # if index number is an odd number\n",
    "              new_s += l.lower() # add a lower cased letter to new_s\n",
    "     return new_s # returns the string new_s"
   ]
  },
  {
   "cell_type": "code",
   "execution_count": 198,
   "metadata": {},
   "outputs": [
    {
     "data": {
      "text/plain": [
       "'AnThRoPoMoRpHiSm'"
      ]
     },
     "execution_count": 198,
     "metadata": {},
     "output_type": "execute_result"
    }
   ],
   "source": [
    "myfunc('Anthropomorphism')"
   ]
  },
  {
   "cell_type": "code",
   "execution_count": 200,
   "metadata": {},
   "outputs": [],
   "source": [
    "def lesser_of_two_evens(a,b):\n",
    "    if a%2==0 and b%2==0:\n",
    "        while(a<b):\n",
    "            return a\n",
    "        else:\n",
    "            return b\n",
    "    elif (a%2==0 or b%2!=0) or (a%2!=0 or b%2==0) or (a%2!=0 or a%2!=0):\n",
    "        while(a>b):\n",
    "            return a\n",
    "        else:\n",
    "            return b"
   ]
  },
  {
   "cell_type": "code",
   "execution_count": 201,
   "metadata": {},
   "outputs": [
    {
     "data": {
      "text/plain": [
       "2"
      ]
     },
     "execution_count": 201,
     "metadata": {},
     "output_type": "execute_result"
    }
   ],
   "source": [
    "lesser_of_two_evens(2,4)"
   ]
  },
  {
   "cell_type": "code",
   "execution_count": 202,
   "metadata": {},
   "outputs": [
    {
     "data": {
      "text/plain": [
       "5"
      ]
     },
     "execution_count": 202,
     "metadata": {},
     "output_type": "execute_result"
    }
   ],
   "source": [
    "lesser_of_two_evens(2,5)"
   ]
  },
  {
   "cell_type": "code",
   "execution_count": 203,
   "metadata": {},
   "outputs": [
    {
     "data": {
      "text/plain": [
       "20"
      ]
     },
     "execution_count": 203,
     "metadata": {},
     "output_type": "execute_result"
    }
   ],
   "source": [
    "lesser_of_two_evens(20,50)"
   ]
  },
  {
   "cell_type": "code",
   "execution_count": 204,
   "metadata": {},
   "outputs": [
    {
     "data": {
      "text/plain": [
       "41"
      ]
     },
     "execution_count": 204,
     "metadata": {},
     "output_type": "execute_result"
    }
   ],
   "source": [
    "lesser_of_two_evens(33,41)"
   ]
  },
  {
   "cell_type": "code",
   "execution_count": null,
   "metadata": {},
   "outputs": [],
   "source": []
  },
  {
   "cell_type": "code",
   "execution_count": 205,
   "metadata": {},
   "outputs": [
    {
     "data": {
      "text/plain": [
       "30"
      ]
     },
     "execution_count": 205,
     "metadata": {},
     "output_type": "execute_result"
    }
   ],
   "source": [
    "lesser_of_two_evens(21,30)"
   ]
  },
  {
   "cell_type": "code",
   "execution_count": 206,
   "metadata": {},
   "outputs": [],
   "source": [
    "def makes_twenty(n1,n2):\n",
    "    if n1+n2==20:\n",
    "        return True\n",
    "    elif (n1==20) or (n2==20):\n",
    "        return True\n",
    "    else:\n",
    "        return False"
   ]
  },
  {
   "cell_type": "code",
   "execution_count": 207,
   "metadata": {},
   "outputs": [
    {
     "data": {
      "text/plain": [
       "True"
      ]
     },
     "execution_count": 207,
     "metadata": {},
     "output_type": "execute_result"
    }
   ],
   "source": [
    "makes_twenty(20,10)"
   ]
  },
  {
   "cell_type": "code",
   "execution_count": 208,
   "metadata": {},
   "outputs": [
    {
     "data": {
      "text/plain": [
       "True"
      ]
     },
     "execution_count": 208,
     "metadata": {},
     "output_type": "execute_result"
    }
   ],
   "source": [
    "makes_twenty(12,8)"
   ]
  },
  {
   "cell_type": "code",
   "execution_count": 209,
   "metadata": {},
   "outputs": [
    {
     "data": {
      "text/plain": [
       "False"
      ]
     },
     "execution_count": 209,
     "metadata": {},
     "output_type": "execute_result"
    }
   ],
   "source": [
    "makes_twenty(2,3)"
   ]
  },
  {
   "cell_type": "code",
   "execution_count": 241,
   "metadata": {},
   "outputs": [],
   "source": [
    "def animal_crackers(text):\n",
    "    text1=text.split()\n",
    "    list1=[]\n",
    "    bools=True\n",
    "    for i in text1:\n",
    "        list1.append(i[0])\n",
    "    #return list1\n",
    "    first=list1[0]\n",
    "    #print(first)\n",
    "    for y in list1:\n",
    "        if y!=first:\n",
    "            bools=False\n",
    "            break\n",
    "    if bools:\n",
    "        return True\n",
    "    else:\n",
    "        return False\n",
    "        \n",
    "\n",
    "       \n",
    "        "
   ]
  },
  {
   "cell_type": "code",
   "execution_count": 242,
   "metadata": {},
   "outputs": [
    {
     "name": "stdout",
     "output_type": "stream",
     "text": [
      "L\n"
     ]
    },
    {
     "data": {
      "text/plain": [
       "True"
      ]
     },
     "execution_count": 242,
     "metadata": {},
     "output_type": "execute_result"
    }
   ],
   "source": [
    "animal_crackers('Levelheaded Llama')"
   ]
  },
  {
   "cell_type": "code",
   "execution_count": 243,
   "metadata": {},
   "outputs": [
    {
     "name": "stdout",
     "output_type": "stream",
     "text": [
      "C\n"
     ]
    },
    {
     "data": {
      "text/plain": [
       "False"
      ]
     },
     "execution_count": 243,
     "metadata": {},
     "output_type": "execute_result"
    }
   ],
   "source": [
    "animal_crackers('Crazy Kangaroo')"
   ]
  },
  {
   "cell_type": "code",
   "execution_count": 248,
   "metadata": {},
   "outputs": [],
   "source": [
    "str1=\"macdonald\""
   ]
  },
  {
   "cell_type": "code",
   "execution_count": 250,
   "metadata": {},
   "outputs": [
    {
     "data": {
      "text/plain": [
       "'MacDonald'"
      ]
     },
     "execution_count": 250,
     "metadata": {},
     "output_type": "execute_result"
    }
   ],
   "source": [
    "str1[0].upper() + str1[1:3] + str1[3].upper() + str1[4:]"
   ]
  },
  {
   "cell_type": "code",
   "execution_count": 251,
   "metadata": {},
   "outputs": [],
   "source": [
    "def old_macdonald(name):\n",
    "    return name[0].upper() + name[1:3] + name[3].upper() + name[4:]"
   ]
  },
  {
   "cell_type": "code",
   "execution_count": 252,
   "metadata": {},
   "outputs": [
    {
     "data": {
      "text/plain": [
       "'MacDonald'"
      ]
     },
     "execution_count": 252,
     "metadata": {},
     "output_type": "execute_result"
    }
   ],
   "source": [
    "old_macdonald(\"macdonald\")"
   ]
  },
  {
   "cell_type": "code",
   "execution_count": 288,
   "metadata": {},
   "outputs": [],
   "source": [
    "def master_yoda(text):\n",
    "    list1=text.split()\n",
    "    return list1[::-1]"
   ]
  },
  {
   "cell_type": "code",
   "execution_count": 289,
   "metadata": {},
   "outputs": [
    {
     "data": {
      "text/plain": [
       "['home', 'am', 'I']"
      ]
     },
     "execution_count": 289,
     "metadata": {},
     "output_type": "execute_result"
    }
   ],
   "source": [
    "master_yoda('I am home')"
   ]
  },
  {
   "cell_type": "code",
   "execution_count": 291,
   "metadata": {},
   "outputs": [
    {
     "data": {
      "text/plain": [
       "34"
      ]
     },
     "execution_count": 291,
     "metadata": {},
     "output_type": "execute_result"
    }
   ],
   "source": [
    "num=34\n",
    "abs(num)"
   ]
  },
  {
   "cell_type": "code",
   "execution_count": 292,
   "metadata": {},
   "outputs": [],
   "source": [
    "def almost_there(n):\n",
    "    return n<110 or 200<n<210"
   ]
  },
  {
   "cell_type": "code",
   "execution_count": 296,
   "metadata": {},
   "outputs": [
    {
     "data": {
      "text/plain": [
       "True"
      ]
     },
     "execution_count": 296,
     "metadata": {},
     "output_type": "execute_result"
    }
   ],
   "source": [
    "almost_there(209)"
   ]
  },
  {
   "cell_type": "code",
   "execution_count": 329,
   "metadata": {},
   "outputs": [],
   "source": [
    "def has_33(nums):\n",
    "    \n"
   ]
  },
  {
   "cell_type": "code",
   "execution_count": 330,
   "metadata": {},
   "outputs": [
    {
     "data": {
      "text/plain": [
       "False"
      ]
     },
     "execution_count": 330,
     "metadata": {},
     "output_type": "execute_result"
    }
   ],
   "source": [
    "has_33([1,3,3])"
   ]
  },
  {
   "cell_type": "code",
   "execution_count": 334,
   "metadata": {},
   "outputs": [
    {
     "data": {
      "text/plain": [
       "True"
      ]
     },
     "execution_count": 334,
     "metadata": {},
     "output_type": "execute_result"
    }
   ],
   "source": [
    "lst = [1, 1, 3, 1, 5, 9, 6]\n",
    "any(lst[i]==lst[i+1] for i in range(len(lst)-1))"
   ]
  },
  {
   "cell_type": "code",
   "execution_count": 337,
   "metadata": {},
   "outputs": [
    {
     "name": "stdout",
     "output_type": "stream",
     "text": [
      "0\n",
      "1\n",
      "1\n",
      "4\n",
      "2\n",
      "5\n",
      "3\n"
     ]
    },
    {
     "ename": "IndexError",
     "evalue": "list index out of range",
     "output_type": "error",
     "traceback": [
      "\u001b[0;31m---------------------------------------------------------------------------\u001b[0m",
      "\u001b[0;31mIndexError\u001b[0m                                Traceback (most recent call last)",
      "\u001b[0;32m<ipython-input-337-4d2133351686>\u001b[0m in \u001b[0;36m<module>\u001b[0;34m()\u001b[0m\n\u001b[1;32m      3\u001b[0m \u001b[0;32mfor\u001b[0m \u001b[0mi\u001b[0m \u001b[0;32min\u001b[0m \u001b[0mrange\u001b[0m\u001b[0;34m(\u001b[0m\u001b[0mlen\u001b[0m\u001b[0;34m(\u001b[0m\u001b[0mlst\u001b[0m\u001b[0;34m)\u001b[0m\u001b[0;34m-\u001b[0m\u001b[0;36m1\u001b[0m\u001b[0;34m)\u001b[0m\u001b[0;34m:\u001b[0m\u001b[0;34m\u001b[0m\u001b[0m\n\u001b[1;32m      4\u001b[0m     \u001b[0mprint\u001b[0m\u001b[0;34m(\u001b[0m\u001b[0mi\u001b[0m\u001b[0;34m)\u001b[0m\u001b[0;34m\u001b[0m\u001b[0m\n\u001b[0;32m----> 5\u001b[0;31m     \u001b[0mprint\u001b[0m\u001b[0;34m(\u001b[0m\u001b[0mnum\u001b[0m\u001b[0;34m[\u001b[0m\u001b[0mi\u001b[0m\u001b[0;34m]\u001b[0m\u001b[0;34m)\u001b[0m\u001b[0;34m\u001b[0m\u001b[0m\n\u001b[0m\u001b[1;32m      6\u001b[0m     \u001b[0;31m#print(i+1)\u001b[0m\u001b[0;34m\u001b[0m\u001b[0;34m\u001b[0m\u001b[0m\n",
      "\u001b[0;31mIndexError\u001b[0m: list index out of range"
     ]
    }
   ],
   "source": [
    "num=[1,4,5]\n",
    "\n",
    "for i in range(len(lst)-1):\n",
    "    print(i)\n",
    "    print(num[i])\n",
    "    #print(i+1)"
   ]
  },
  {
   "cell_type": "code",
   "execution_count": 369,
   "metadata": {},
   "outputs": [],
   "source": [
    "def has_33(nums):\n",
    "    for i in range(len(nums)-1):\n",
    "        print(i)\n",
    "        bools=False\n",
    "        if (nums[i]==3) and (nums[i+1]==3):\n",
    "            bools=True\n",
    "            break\n",
    "    return bools"
   ]
  },
  {
   "cell_type": "code",
   "execution_count": 372,
   "metadata": {},
   "outputs": [
    {
     "name": "stdout",
     "output_type": "stream",
     "text": [
      "0\n",
      "1\n"
     ]
    },
    {
     "data": {
      "text/plain": [
       "False"
      ]
     },
     "execution_count": 372,
     "metadata": {},
     "output_type": "execute_result"
    }
   ],
   "source": [
    "has_33([3, 1, 3])"
   ]
  },
  {
   "cell_type": "code",
   "execution_count": 386,
   "metadata": {},
   "outputs": [],
   "source": [
    "def paper_doll(text):\n",
    "    str1=\"\"\n",
    "    for i in range(len(text)):\n",
    "        str1+=text[i]*3\n",
    "    return str1"
   ]
  },
  {
   "cell_type": "code",
   "execution_count": 387,
   "metadata": {},
   "outputs": [
    {
     "data": {
      "text/plain": [
       "'HHHeeellllllooo'"
      ]
     },
     "execution_count": 387,
     "metadata": {},
     "output_type": "execute_result"
    }
   ],
   "source": [
    "paper_doll('Hello')"
   ]
  },
  {
   "cell_type": "code",
   "execution_count": 388,
   "metadata": {},
   "outputs": [
    {
     "data": {
      "text/plain": [
       "'MMMiiissssssiiissssssiiippppppiii'"
      ]
     },
     "execution_count": 388,
     "metadata": {},
     "output_type": "execute_result"
    }
   ],
   "source": [
    "paper_doll('Mississippi')"
   ]
  },
  {
   "cell_type": "code",
   "execution_count": 389,
   "metadata": {},
   "outputs": [
    {
     "ename": "NameError",
     "evalue": "name 'MMMiiissssssiiippppppiii' is not defined",
     "output_type": "error",
     "traceback": [
      "\u001b[0;31m---------------------------------------------------------------------------\u001b[0m",
      "\u001b[0;31mNameError\u001b[0m                                 Traceback (most recent call last)",
      "\u001b[0;32m<ipython-input-389-b576221d2f95>\u001b[0m in \u001b[0;36m<module>\u001b[0;34m()\u001b[0m\n\u001b[0;32m----> 1\u001b[0;31m \u001b[0mMMMiiissssssiiippppppiii\u001b[0m\u001b[0;34m\u001b[0m\u001b[0m\n\u001b[0m\u001b[1;32m      2\u001b[0m \u001b[0;34m\u001b[0m\u001b[0m\n\u001b[1;32m      3\u001b[0m \u001b[0mMMMiiissssssiiissssssiiippppppiii\u001b[0m\u001b[0;34m\u001b[0m\u001b[0m\n",
      "\u001b[0;31mNameError\u001b[0m: name 'MMMiiissssssiiippppppiii' is not defined"
     ]
    }
   ],
   "source": [
    "MMMiiissssssiiippppppiii\n",
    "\n",
    "MMMiiissssssiiissssssiiippppppiii"
   ]
  },
  {
   "cell_type": "code",
   "execution_count": 396,
   "metadata": {},
   "outputs": [],
   "source": [
    "def blackjack(a,b,c):\n",
    "    sum=0\n",
    "    str1=\"\"\n",
    "    if (a+b+c) <21:\n",
    "        sum+=a+b+c\n",
    "    elif ((a+b+c) >21) and (a==11 or b==11 or c==11):\n",
    "        sum+=a+b+c-10\n",
    "    elif (a+b+c) >21:\n",
    "        return \"BUST\"\n",
    "    return sum\n",
    "    "
   ]
  },
  {
   "cell_type": "code",
   "execution_count": 397,
   "metadata": {},
   "outputs": [
    {
     "data": {
      "text/plain": [
       "18"
      ]
     },
     "execution_count": 397,
     "metadata": {},
     "output_type": "execute_result"
    }
   ],
   "source": [
    "blackjack(5,6,7)"
   ]
  },
  {
   "cell_type": "code",
   "execution_count": 398,
   "metadata": {},
   "outputs": [
    {
     "data": {
      "text/plain": [
       "'BUST'"
      ]
     },
     "execution_count": 398,
     "metadata": {},
     "output_type": "execute_result"
    }
   ],
   "source": [
    "blackjack(9,9,9)"
   ]
  },
  {
   "cell_type": "code",
   "execution_count": 399,
   "metadata": {},
   "outputs": [
    {
     "data": {
      "text/plain": [
       "19"
      ]
     },
     "execution_count": 399,
     "metadata": {},
     "output_type": "execute_result"
    }
   ],
   "source": [
    "blackjack(9,9,11)"
   ]
  },
  {
   "cell_type": "code",
   "execution_count": 427,
   "metadata": {},
   "outputs": [],
   "source": [
    "def summer_69(arr):\n",
    "    sum=0\n",
    "    for i in arr:\n",
    "        if i in range(6,10):\n",
    "            continue\n",
    "        else:\n",
    "            sum+=i\n",
    "    return sum\n",
    "    \n",
    "            "
   ]
  },
  {
   "cell_type": "code",
   "execution_count": 429,
   "metadata": {},
   "outputs": [
    {
     "data": {
      "text/plain": [
       "21"
      ]
     },
     "execution_count": 429,
     "metadata": {},
     "output_type": "execute_result"
    }
   ],
   "source": [
    "summer_69([4, 5, 6, 12, 8, 9])"
   ]
  },
  {
   "cell_type": "code",
   "execution_count": 411,
   "metadata": {},
   "outputs": [
    {
     "ename": "NameError",
     "evalue": "name 'list1' is not defined",
     "output_type": "error",
     "traceback": [
      "\u001b[0;31m---------------------------------------------------------------------------\u001b[0m",
      "\u001b[0;31mNameError\u001b[0m                                 Traceback (most recent call last)",
      "\u001b[0;32m<ipython-input-411-ffb26f72aa6c>\u001b[0m in \u001b[0;36m<module>\u001b[0;34m()\u001b[0m\n\u001b[0;32m----> 1\u001b[0;31m \u001b[0mlist1\u001b[0m\u001b[0;34m.\u001b[0m\u001b[0mextend\u001b[0m\u001b[0;34m(\u001b[0m\u001b[0;34m\"x\"\u001b[0m\u001b[0;34m)\u001b[0m\u001b[0;34m\u001b[0m\u001b[0m\n\u001b[0m",
      "\u001b[0;31mNameError\u001b[0m: name 'list1' is not defined"
     ]
    }
   ],
   "source": [
    "list1.extend(\"x\")"
   ]
  },
  {
   "cell_type": "code",
   "execution_count": 412,
   "metadata": {},
   "outputs": [],
   "source": [
    "list1=['a','x']"
   ]
  },
  {
   "cell_type": "code",
   "execution_count": 413,
   "metadata": {},
   "outputs": [],
   "source": [
    "list1.extend(\"x\")"
   ]
  },
  {
   "cell_type": "code",
   "execution_count": 414,
   "metadata": {},
   "outputs": [
    {
     "data": {
      "text/plain": [
       "['a', 'x', 'x']"
      ]
     },
     "execution_count": 414,
     "metadata": {},
     "output_type": "execute_result"
    }
   ],
   "source": [
    "list1"
   ]
  },
  {
   "cell_type": "code",
   "execution_count": null,
   "metadata": {},
   "outputs": [],
   "source": [
    "for i in [1,2,3,4,5]:\n",
    "    if i==3:\n",
    "        break\n",
    "    else:\n",
    "        print(i)"
   ]
  },
  {
   "cell_type": "code",
   "execution_count": null,
   "metadata": {},
   "outputs": [],
   "source": []
  },
  {
   "cell_type": "code",
   "execution_count": 1,
   "metadata": {},
   "outputs": [],
   "source": [
    "def sample(arr):\n",
    "    total=0\n",
    "    add=True\n",
    "    \n",
    "    for num in arr:\n",
    "        print(\"for\")\n",
    "        while add:\n",
    "            print(\"while 1\")\n",
    "            if num !=6:\n",
    "                total+=num\n",
    "                break\n",
    "            else:\n",
    "                add=False\n",
    "        while not add:\n",
    "            print(\"while 2\")\n",
    "            if num!=9:\n",
    "                break\n",
    "            else:\n",
    "                add=True\n",
    "                break\n",
    "    return total"
   ]
  },
  {
   "cell_type": "code",
   "execution_count": 2,
   "metadata": {},
   "outputs": [
    {
     "name": "stdout",
     "output_type": "stream",
     "text": [
      "for\n",
      "while 1\n",
      "for\n",
      "while 1\n",
      "for\n",
      "while 1\n",
      "while 2\n",
      "for\n",
      "while 2\n",
      "for\n",
      "while 2\n",
      "for\n",
      "while 2\n"
     ]
    },
    {
     "data": {
      "text/plain": [
       "9"
      ]
     },
     "execution_count": 2,
     "metadata": {},
     "output_type": "execute_result"
    }
   ],
   "source": [
    "sample([4,5,6,7,8,9])"
   ]
  },
  {
   "cell_type": "markdown",
   "metadata": {},
   "source": []
  },
  {
   "cell_type": "code",
   "execution_count": 3,
   "metadata": {},
   "outputs": [
    {
     "ename": "TypeError",
     "evalue": "'str' object does not support item assignment",
     "output_type": "error",
     "traceback": [
      "\u001b[0;31m---------------------------------------------------------------------------\u001b[0m",
      "\u001b[0;31mTypeError\u001b[0m                                 Traceback (most recent call last)",
      "\u001b[0;32m<ipython-input-3-8daf502b10ec>\u001b[0m in \u001b[0;36m<module>\u001b[0;34m()\u001b[0m\n\u001b[1;32m      1\u001b[0m \u001b[0mname\u001b[0m\u001b[0;34m=\u001b[0m\u001b[0;34m\"sam\"\u001b[0m\u001b[0;34m\u001b[0m\u001b[0m\n\u001b[0;32m----> 2\u001b[0;31m \u001b[0mname\u001b[0m\u001b[0;34m[\u001b[0m\u001b[0;36m0\u001b[0m\u001b[0;34m]\u001b[0m\u001b[0;34m=\u001b[0m\u001b[0;34m'P'\u001b[0m\u001b[0;34m\u001b[0m\u001b[0m\n\u001b[0m",
      "\u001b[0;31mTypeError\u001b[0m: 'str' object does not support item assignment"
     ]
    }
   ],
   "source": [
    "name=\"sam\"\n",
    "name[0]='P'"
   ]
  },
  {
   "cell_type": "code",
   "execution_count": 14,
   "metadata": {},
   "outputs": [],
   "source": [
    "def spy_game(nums):\n",
    "    list2=[]\n",
    "    for i in nums:\n",
    "        \n",
    "        if i==0:\n",
    "            list2.append(i)\n",
    "        elif i==7:\n",
    "            list2.append(i)\n",
    "    print(list2)\n",
    "    if list2==[0,0,7]:\n",
    "        return True\n",
    "    else:\n",
    "        return False\n",
    "            "
   ]
  },
  {
   "cell_type": "code",
   "execution_count": 15,
   "metadata": {},
   "outputs": [
    {
     "name": "stdout",
     "output_type": "stream",
     "text": [
      "[0, 0, 7]\n"
     ]
    },
    {
     "data": {
      "text/plain": [
       "True"
      ]
     },
     "execution_count": 15,
     "metadata": {},
     "output_type": "execute_result"
    }
   ],
   "source": [
    "spy_game([1,2,4,0,0,7,5])"
   ]
  },
  {
   "cell_type": "code",
   "execution_count": 49,
   "metadata": {},
   "outputs": [],
   "source": [
    "def count_primes(num):\n",
    "    count=0\n",
    "    for i in range(2,5):\n",
    "        for j in range(2,i-1):\n",
    "            print(i)\n",
    "            z=i%j\n",
    "            print(z)\n",
    "            if (i-1)==0 or (i-1)==1:\n",
    "                count+=1\n",
    "            \n",
    "            elif i%j ==0:\n",
    "                count+=1\n",
    "    return count\n",
    "          "
   ]
  },
  {
   "cell_type": "code",
   "execution_count": 50,
   "metadata": {},
   "outputs": [
    {
     "name": "stdout",
     "output_type": "stream",
     "text": [
      "4\n",
      "0\n"
     ]
    },
    {
     "data": {
      "text/plain": [
       "1"
      ]
     },
     "execution_count": 50,
     "metadata": {},
     "output_type": "execute_result"
    }
   ],
   "source": [
    "count_primes(100)\n",
    " \n",
    "          "
   ]
  },
  {
   "cell_type": "code",
   "execution_count": 33,
   "metadata": {},
   "outputs": [
    {
     "data": {
      "text/plain": [
       "(5,\n",
       " 7,\n",
       " 11,\n",
       " 13,\n",
       " 17,\n",
       " 19,\n",
       " 23,\n",
       " 29,\n",
       " 31,\n",
       " 37,\n",
       " 41,\n",
       " 43,\n",
       " 47,\n",
       " 53,\n",
       " 59,\n",
       " 61,\n",
       " 67,\n",
       " 71,\n",
       " 73,\n",
       " 79,\n",
       " 83,\n",
       " 89,\n",
       " 97)"
      ]
     },
     "execution_count": 33,
     "metadata": {},
     "output_type": "execute_result"
    }
   ],
   "source": [
    "5, 7, 11, 13, 17, 19, 23, 29, 31, 37, 41, 43, 47, 53, 59, 61, 67, 71, 73, 79, 83, 89, 97"
   ]
  },
  {
   "cell_type": "code",
   "execution_count": 34,
   "metadata": {},
   "outputs": [],
   "source": [
    "i=3\n",
    "for i in range(2,i-1):\n",
    "    print(i)"
   ]
  },
  {
   "cell_type": "code",
   "execution_count": 51,
   "metadata": {},
   "outputs": [],
   "source": [
    "def count_primes(num):\n",
    "    count=0\n",
    "    for i in range(2,num+1):\n",
    "        for j in range(2,i-1):\n",
    "            print(i)\n",
    "            z=i%j\n",
    "            print(z)\n",
    "            if (i-1)==0 or (i-1)==1:\n",
    "                count+=1\n",
    "            \n",
    "            elif i%j ==0:\n",
    "                count+=1\n",
    "    return count"
   ]
  },
  {
   "cell_type": "code",
   "execution_count": 52,
   "metadata": {},
   "outputs": [
    {
     "name": "stdout",
     "output_type": "stream",
     "text": [
      "4\n",
      "0\n"
     ]
    },
    {
     "data": {
      "text/plain": [
       "1"
      ]
     },
     "execution_count": 52,
     "metadata": {},
     "output_type": "execute_result"
    }
   ],
   "source": [
    "count_primes(6)"
   ]
  },
  {
   "cell_type": "code",
   "execution_count": 59,
   "metadata": {},
   "outputs": [],
   "source": [
    "def count_primes(num):\n",
    "    for i in range(2,num+1):\n",
    "        print(i)\n",
    "        for j in range(2,i-1):\n",
    "            print(j)\n",
    "            #pass\n",
    "            "
   ]
  },
  {
   "cell_type": "code",
   "execution_count": 60,
   "metadata": {},
   "outputs": [
    {
     "name": "stdout",
     "output_type": "stream",
     "text": [
      "2\n",
      "3\n",
      "4\n",
      "2\n",
      "5\n",
      "2\n",
      "3\n",
      "6\n",
      "2\n",
      "3\n",
      "4\n"
     ]
    }
   ],
   "source": [
    "count_primes(6)"
   ]
  },
  {
   "cell_type": "code",
   "execution_count": 1,
   "metadata": {},
   "outputs": [
    {
     "name": "stdout",
     "output_type": "stream",
     "text": [
      "fds\n"
     ]
    }
   ],
   "source": [
    "print(\"fds\")"
   ]
  },
  {
   "cell_type": "code",
   "execution_count": 45,
   "metadata": {},
   "outputs": [],
   "source": [
    "def count_primes(num):\n",
    "    count=0\n",
    "    for i in range(2,num):\n",
    "        print(i)\n",
    "        if num%i==0:\n",
    "            count+=1\n",
    "            break\n",
    "        else:\n",
    "            continue\n",
    "    print(count)\n",
    "    if count==1:\n",
    "        print(\"Not prime\")\n",
    "    else:\n",
    "        print(\"prime\")\n",
    "    \n",
    "                "
   ]
  },
  {
   "cell_type": "code",
   "execution_count": 47,
   "metadata": {},
   "outputs": [
    {
     "name": "stdout",
     "output_type": "stream",
     "text": [
      "0\n",
      "prime\n"
     ]
    }
   ],
   "source": [
    "count_primes(2)"
   ]
  },
  {
   "cell_type": "code",
   "execution_count": 61,
   "metadata": {},
   "outputs": [],
   "source": [
    "def count_primes(num):\n",
    "    count=0\n",
    "    for i in range(2,num+1):\n",
    "        for j in range(2,i):\n",
    "            print(j)\n",
    "            if i%j==0:\n",
    "                count+=1\n",
    "                break\n",
    "            else:\n",
    "                continue\n",
    "        if count==1:\n",
    "            print(\"prime\")"
   ]
  },
  {
   "cell_type": "code",
   "execution_count": 62,
   "metadata": {},
   "outputs": [
    {
     "name": "stdout",
     "output_type": "stream",
     "text": [
      "2\n",
      "2\n",
      "prime\n",
      "2\n",
      "3\n",
      "4\n",
      "prime\n",
      "2\n"
     ]
    }
   ],
   "source": [
    "count_primes(6)"
   ]
  },
  {
   "cell_type": "code",
   "execution_count": 76,
   "metadata": {},
   "outputs": [],
   "source": [
    "def count_primes(num):\n",
    "    list2=[]\n",
    "    for i in range(2,num+1):\n",
    "        \n",
    "        print(f\"value of I is {i}\") \n",
    "        if i==2:\n",
    "                list2.append(i)\n",
    "                continue\n",
    "                \n",
    "        for j in range(2,i):\n",
    "            print(f\"j is  {j}\")\n",
    "            \n",
    "            if i!=2 and i%j==0:\n",
    "                break\n",
    "            elif i!=2 and i%j!=0 and j==i-1:\n",
    "                list2.append(i)\n",
    "                break\n",
    "            elif i!=2 and i%j!=0:\n",
    "                continue\n",
    "    print(list2)\n",
    "    print(len(list2))\n",
    "                "
   ]
  },
  {
   "cell_type": "code",
   "execution_count": 78,
   "metadata": {},
   "outputs": [
    {
     "name": "stdout",
     "output_type": "stream",
     "text": [
      "value of I is 2\n",
      "value of I is 3\n",
      "j is  2\n",
      "value of I is 4\n",
      "j is  2\n",
      "value of I is 5\n",
      "j is  2\n",
      "j is  3\n",
      "j is  4\n",
      "value of I is 6\n",
      "j is  2\n",
      "value of I is 7\n",
      "j is  2\n",
      "j is  3\n",
      "j is  4\n",
      "j is  5\n",
      "j is  6\n",
      "value of I is 8\n",
      "j is  2\n",
      "value of I is 9\n",
      "j is  2\n",
      "j is  3\n",
      "value of I is 10\n",
      "j is  2\n",
      "value of I is 11\n",
      "j is  2\n",
      "j is  3\n",
      "j is  4\n",
      "j is  5\n",
      "j is  6\n",
      "j is  7\n",
      "j is  8\n",
      "j is  9\n",
      "j is  10\n",
      "value of I is 12\n",
      "j is  2\n",
      "value of I is 13\n",
      "j is  2\n",
      "j is  3\n",
      "j is  4\n",
      "j is  5\n",
      "j is  6\n",
      "j is  7\n",
      "j is  8\n",
      "j is  9\n",
      "j is  10\n",
      "j is  11\n",
      "j is  12\n",
      "value of I is 14\n",
      "j is  2\n",
      "value of I is 15\n",
      "j is  2\n",
      "j is  3\n",
      "value of I is 16\n",
      "j is  2\n",
      "value of I is 17\n",
      "j is  2\n",
      "j is  3\n",
      "j is  4\n",
      "j is  5\n",
      "j is  6\n",
      "j is  7\n",
      "j is  8\n",
      "j is  9\n",
      "j is  10\n",
      "j is  11\n",
      "j is  12\n",
      "j is  13\n",
      "j is  14\n",
      "j is  15\n",
      "j is  16\n",
      "value of I is 18\n",
      "j is  2\n",
      "value of I is 19\n",
      "j is  2\n",
      "j is  3\n",
      "j is  4\n",
      "j is  5\n",
      "j is  6\n",
      "j is  7\n",
      "j is  8\n",
      "j is  9\n",
      "j is  10\n",
      "j is  11\n",
      "j is  12\n",
      "j is  13\n",
      "j is  14\n",
      "j is  15\n",
      "j is  16\n",
      "j is  17\n",
      "j is  18\n",
      "value of I is 20\n",
      "j is  2\n",
      "value of I is 21\n",
      "j is  2\n",
      "j is  3\n",
      "value of I is 22\n",
      "j is  2\n",
      "value of I is 23\n",
      "j is  2\n",
      "j is  3\n",
      "j is  4\n",
      "j is  5\n",
      "j is  6\n",
      "j is  7\n",
      "j is  8\n",
      "j is  9\n",
      "j is  10\n",
      "j is  11\n",
      "j is  12\n",
      "j is  13\n",
      "j is  14\n",
      "j is  15\n",
      "j is  16\n",
      "j is  17\n",
      "j is  18\n",
      "j is  19\n",
      "j is  20\n",
      "j is  21\n",
      "j is  22\n",
      "value of I is 24\n",
      "j is  2\n",
      "value of I is 25\n",
      "j is  2\n",
      "j is  3\n",
      "j is  4\n",
      "j is  5\n",
      "value of I is 26\n",
      "j is  2\n",
      "value of I is 27\n",
      "j is  2\n",
      "j is  3\n",
      "value of I is 28\n",
      "j is  2\n",
      "value of I is 29\n",
      "j is  2\n",
      "j is  3\n",
      "j is  4\n",
      "j is  5\n",
      "j is  6\n",
      "j is  7\n",
      "j is  8\n",
      "j is  9\n",
      "j is  10\n",
      "j is  11\n",
      "j is  12\n",
      "j is  13\n",
      "j is  14\n",
      "j is  15\n",
      "j is  16\n",
      "j is  17\n",
      "j is  18\n",
      "j is  19\n",
      "j is  20\n",
      "j is  21\n",
      "j is  22\n",
      "j is  23\n",
      "j is  24\n",
      "j is  25\n",
      "j is  26\n",
      "j is  27\n",
      "j is  28\n",
      "value of I is 30\n",
      "j is  2\n",
      "value of I is 31\n",
      "j is  2\n",
      "j is  3\n",
      "j is  4\n",
      "j is  5\n",
      "j is  6\n",
      "j is  7\n",
      "j is  8\n",
      "j is  9\n",
      "j is  10\n",
      "j is  11\n",
      "j is  12\n",
      "j is  13\n",
      "j is  14\n",
      "j is  15\n",
      "j is  16\n",
      "j is  17\n",
      "j is  18\n",
      "j is  19\n",
      "j is  20\n",
      "j is  21\n",
      "j is  22\n",
      "j is  23\n",
      "j is  24\n",
      "j is  25\n",
      "j is  26\n",
      "j is  27\n",
      "j is  28\n",
      "j is  29\n",
      "j is  30\n",
      "value of I is 32\n",
      "j is  2\n",
      "value of I is 33\n",
      "j is  2\n",
      "j is  3\n",
      "value of I is 34\n",
      "j is  2\n",
      "value of I is 35\n",
      "j is  2\n",
      "j is  3\n",
      "j is  4\n",
      "j is  5\n",
      "value of I is 36\n",
      "j is  2\n",
      "value of I is 37\n",
      "j is  2\n",
      "j is  3\n",
      "j is  4\n",
      "j is  5\n",
      "j is  6\n",
      "j is  7\n",
      "j is  8\n",
      "j is  9\n",
      "j is  10\n",
      "j is  11\n",
      "j is  12\n",
      "j is  13\n",
      "j is  14\n",
      "j is  15\n",
      "j is  16\n",
      "j is  17\n",
      "j is  18\n",
      "j is  19\n",
      "j is  20\n",
      "j is  21\n",
      "j is  22\n",
      "j is  23\n",
      "j is  24\n",
      "j is  25\n",
      "j is  26\n",
      "j is  27\n",
      "j is  28\n",
      "j is  29\n",
      "j is  30\n",
      "j is  31\n",
      "j is  32\n",
      "j is  33\n",
      "j is  34\n",
      "j is  35\n",
      "j is  36\n",
      "value of I is 38\n",
      "j is  2\n",
      "value of I is 39\n",
      "j is  2\n",
      "j is  3\n",
      "value of I is 40\n",
      "j is  2\n",
      "value of I is 41\n",
      "j is  2\n",
      "j is  3\n",
      "j is  4\n",
      "j is  5\n",
      "j is  6\n",
      "j is  7\n",
      "j is  8\n",
      "j is  9\n",
      "j is  10\n",
      "j is  11\n",
      "j is  12\n",
      "j is  13\n",
      "j is  14\n",
      "j is  15\n",
      "j is  16\n",
      "j is  17\n",
      "j is  18\n",
      "j is  19\n",
      "j is  20\n",
      "j is  21\n",
      "j is  22\n",
      "j is  23\n",
      "j is  24\n",
      "j is  25\n",
      "j is  26\n",
      "j is  27\n",
      "j is  28\n",
      "j is  29\n",
      "j is  30\n",
      "j is  31\n",
      "j is  32\n",
      "j is  33\n",
      "j is  34\n",
      "j is  35\n",
      "j is  36\n",
      "j is  37\n",
      "j is  38\n",
      "j is  39\n",
      "j is  40\n",
      "value of I is 42\n",
      "j is  2\n",
      "value of I is 43\n",
      "j is  2\n",
      "j is  3\n",
      "j is  4\n",
      "j is  5\n",
      "j is  6\n",
      "j is  7\n",
      "j is  8\n",
      "j is  9\n",
      "j is  10\n",
      "j is  11\n",
      "j is  12\n",
      "j is  13\n",
      "j is  14\n",
      "j is  15\n",
      "j is  16\n",
      "j is  17\n",
      "j is  18\n",
      "j is  19\n",
      "j is  20\n",
      "j is  21\n",
      "j is  22\n",
      "j is  23\n",
      "j is  24\n",
      "j is  25\n",
      "j is  26\n",
      "j is  27\n",
      "j is  28\n",
      "j is  29\n",
      "j is  30\n",
      "j is  31\n",
      "j is  32\n",
      "j is  33\n",
      "j is  34\n",
      "j is  35\n",
      "j is  36\n",
      "j is  37\n",
      "j is  38\n",
      "j is  39\n",
      "j is  40\n",
      "j is  41\n",
      "j is  42\n",
      "value of I is 44\n",
      "j is  2\n",
      "value of I is 45\n",
      "j is  2\n",
      "j is  3\n",
      "value of I is 46\n",
      "j is  2\n",
      "value of I is 47\n",
      "j is  2\n",
      "j is  3\n",
      "j is  4\n",
      "j is  5\n",
      "j is  6\n",
      "j is  7\n",
      "j is  8\n",
      "j is  9\n",
      "j is  10\n",
      "j is  11\n",
      "j is  12\n",
      "j is  13\n",
      "j is  14\n",
      "j is  15\n",
      "j is  16\n",
      "j is  17\n",
      "j is  18\n",
      "j is  19\n",
      "j is  20\n",
      "j is  21\n",
      "j is  22\n",
      "j is  23\n",
      "j is  24\n",
      "j is  25\n",
      "j is  26\n",
      "j is  27\n",
      "j is  28\n",
      "j is  29\n",
      "j is  30\n",
      "j is  31\n",
      "j is  32\n",
      "j is  33\n",
      "j is  34\n",
      "j is  35\n",
      "j is  36\n",
      "j is  37\n",
      "j is  38\n",
      "j is  39\n",
      "j is  40\n",
      "j is  41\n",
      "j is  42\n",
      "j is  43\n",
      "j is  44\n",
      "j is  45\n",
      "j is  46\n",
      "value of I is 48\n",
      "j is  2\n",
      "value of I is 49\n",
      "j is  2\n",
      "j is  3\n",
      "j is  4\n",
      "j is  5\n",
      "j is  6\n",
      "j is  7\n",
      "value of I is 50\n",
      "j is  2\n",
      "value of I is 51\n",
      "j is  2\n",
      "j is  3\n",
      "value of I is 52\n",
      "j is  2\n",
      "value of I is 53\n",
      "j is  2\n",
      "j is  3\n",
      "j is  4\n",
      "j is  5\n",
      "j is  6\n",
      "j is  7\n",
      "j is  8\n",
      "j is  9\n",
      "j is  10\n",
      "j is  11\n",
      "j is  12\n",
      "j is  13\n",
      "j is  14\n",
      "j is  15\n",
      "j is  16\n",
      "j is  17\n",
      "j is  18\n",
      "j is  19\n",
      "j is  20\n",
      "j is  21\n",
      "j is  22\n",
      "j is  23\n",
      "j is  24\n",
      "j is  25\n",
      "j is  26\n",
      "j is  27\n",
      "j is  28\n",
      "j is  29\n",
      "j is  30\n",
      "j is  31\n",
      "j is  32\n",
      "j is  33\n",
      "j is  34\n",
      "j is  35\n",
      "j is  36\n",
      "j is  37\n",
      "j is  38\n",
      "j is  39\n",
      "j is  40\n",
      "j is  41\n",
      "j is  42\n",
      "j is  43\n",
      "j is  44\n",
      "j is  45\n",
      "j is  46\n",
      "j is  47\n",
      "j is  48\n",
      "j is  49\n",
      "j is  50\n",
      "j is  51\n",
      "j is  52\n",
      "value of I is 54\n",
      "j is  2\n",
      "value of I is 55\n",
      "j is  2\n",
      "j is  3\n",
      "j is  4\n",
      "j is  5\n",
      "value of I is 56\n",
      "j is  2\n",
      "value of I is 57\n",
      "j is  2\n",
      "j is  3\n",
      "value of I is 58\n",
      "j is  2\n",
      "value of I is 59\n",
      "j is  2\n",
      "j is  3\n",
      "j is  4\n",
      "j is  5\n",
      "j is  6\n",
      "j is  7\n",
      "j is  8\n",
      "j is  9\n",
      "j is  10\n",
      "j is  11\n",
      "j is  12\n",
      "j is  13\n",
      "j is  14\n",
      "j is  15\n",
      "j is  16\n",
      "j is  17\n",
      "j is  18\n",
      "j is  19\n",
      "j is  20\n",
      "j is  21\n",
      "j is  22\n",
      "j is  23\n",
      "j is  24\n",
      "j is  25\n",
      "j is  26\n",
      "j is  27\n",
      "j is  28\n",
      "j is  29\n",
      "j is  30\n",
      "j is  31\n",
      "j is  32\n",
      "j is  33\n",
      "j is  34\n",
      "j is  35\n",
      "j is  36\n",
      "j is  37\n",
      "j is  38\n",
      "j is  39\n",
      "j is  40\n",
      "j is  41\n",
      "j is  42\n",
      "j is  43\n",
      "j is  44\n",
      "j is  45\n",
      "j is  46\n",
      "j is  47\n",
      "j is  48\n",
      "j is  49\n",
      "j is  50\n",
      "j is  51\n",
      "j is  52\n",
      "j is  53\n",
      "j is  54\n",
      "j is  55\n",
      "j is  56\n",
      "j is  57\n",
      "j is  58\n",
      "value of I is 60\n",
      "j is  2\n",
      "value of I is 61\n",
      "j is  2\n",
      "j is  3\n",
      "j is  4\n",
      "j is  5\n",
      "j is  6\n",
      "j is  7\n",
      "j is  8\n",
      "j is  9\n",
      "j is  10\n",
      "j is  11\n",
      "j is  12\n",
      "j is  13\n",
      "j is  14\n",
      "j is  15\n",
      "j is  16\n",
      "j is  17\n",
      "j is  18\n",
      "j is  19\n",
      "j is  20\n",
      "j is  21\n",
      "j is  22\n",
      "j is  23\n",
      "j is  24\n",
      "j is  25\n",
      "j is  26\n",
      "j is  27\n",
      "j is  28\n",
      "j is  29\n",
      "j is  30\n",
      "j is  31\n",
      "j is  32\n",
      "j is  33\n",
      "j is  34\n",
      "j is  35\n",
      "j is  36\n",
      "j is  37\n",
      "j is  38\n",
      "j is  39\n",
      "j is  40\n",
      "j is  41\n",
      "j is  42\n",
      "j is  43\n",
      "j is  44\n",
      "j is  45\n",
      "j is  46\n",
      "j is  47\n",
      "j is  48\n",
      "j is  49\n",
      "j is  50\n",
      "j is  51\n",
      "j is  52\n",
      "j is  53\n",
      "j is  54\n",
      "j is  55\n",
      "j is  56\n",
      "j is  57\n",
      "j is  58\n",
      "j is  59\n",
      "j is  60\n",
      "value of I is 62\n",
      "j is  2\n",
      "value of I is 63\n",
      "j is  2\n",
      "j is  3\n",
      "value of I is 64\n",
      "j is  2\n",
      "value of I is 65\n",
      "j is  2\n",
      "j is  3\n",
      "j is  4\n",
      "j is  5\n",
      "value of I is 66\n",
      "j is  2\n",
      "value of I is 67\n",
      "j is  2\n",
      "j is  3\n",
      "j is  4\n",
      "j is  5\n",
      "j is  6\n",
      "j is  7\n",
      "j is  8\n",
      "j is  9\n",
      "j is  10\n",
      "j is  11\n",
      "j is  12\n",
      "j is  13\n",
      "j is  14\n",
      "j is  15\n",
      "j is  16\n",
      "j is  17\n",
      "j is  18\n",
      "j is  19\n",
      "j is  20\n",
      "j is  21\n",
      "j is  22\n",
      "j is  23\n",
      "j is  24\n",
      "j is  25\n",
      "j is  26\n",
      "j is  27\n",
      "j is  28\n",
      "j is  29\n",
      "j is  30\n",
      "j is  31\n",
      "j is  32\n",
      "j is  33\n",
      "j is  34\n",
      "j is  35\n",
      "j is  36\n",
      "j is  37\n",
      "j is  38\n",
      "j is  39\n",
      "j is  40\n",
      "j is  41\n",
      "j is  42\n",
      "j is  43\n",
      "j is  44\n",
      "j is  45\n",
      "j is  46\n",
      "j is  47\n",
      "j is  48\n",
      "j is  49\n",
      "j is  50\n",
      "j is  51\n",
      "j is  52\n",
      "j is  53\n",
      "j is  54\n",
      "j is  55\n",
      "j is  56\n",
      "j is  57\n",
      "j is  58\n",
      "j is  59\n",
      "j is  60\n",
      "j is  61\n",
      "j is  62\n",
      "j is  63\n",
      "j is  64\n",
      "j is  65\n",
      "j is  66\n",
      "value of I is 68\n",
      "j is  2\n",
      "value of I is 69\n",
      "j is  2\n",
      "j is  3\n",
      "value of I is 70\n",
      "j is  2\n",
      "value of I is 71\n",
      "j is  2\n",
      "j is  3\n",
      "j is  4\n",
      "j is  5\n",
      "j is  6\n",
      "j is  7\n",
      "j is  8\n",
      "j is  9\n",
      "j is  10\n",
      "j is  11\n",
      "j is  12\n",
      "j is  13\n",
      "j is  14\n",
      "j is  15\n",
      "j is  16\n",
      "j is  17\n",
      "j is  18\n",
      "j is  19\n",
      "j is  20\n",
      "j is  21\n",
      "j is  22\n",
      "j is  23\n",
      "j is  24\n",
      "j is  25\n",
      "j is  26\n",
      "j is  27\n",
      "j is  28\n",
      "j is  29\n",
      "j is  30\n",
      "j is  31\n",
      "j is  32\n",
      "j is  33\n",
      "j is  34\n",
      "j is  35\n",
      "j is  36\n",
      "j is  37\n",
      "j is  38\n",
      "j is  39\n",
      "j is  40\n",
      "j is  41\n",
      "j is  42\n",
      "j is  43\n",
      "j is  44\n",
      "j is  45\n",
      "j is  46\n",
      "j is  47\n",
      "j is  48\n",
      "j is  49\n",
      "j is  50\n",
      "j is  51\n",
      "j is  52\n",
      "j is  53\n",
      "j is  54\n",
      "j is  55\n",
      "j is  56\n",
      "j is  57\n",
      "j is  58\n",
      "j is  59\n",
      "j is  60\n",
      "j is  61\n",
      "j is  62\n",
      "j is  63\n",
      "j is  64\n",
      "j is  65\n",
      "j is  66\n",
      "j is  67\n",
      "j is  68\n",
      "j is  69\n",
      "j is  70\n",
      "value of I is 72\n",
      "j is  2\n",
      "value of I is 73\n",
      "j is  2\n",
      "j is  3\n",
      "j is  4\n",
      "j is  5\n",
      "j is  6\n",
      "j is  7\n",
      "j is  8\n",
      "j is  9\n",
      "j is  10\n",
      "j is  11\n",
      "j is  12\n",
      "j is  13\n",
      "j is  14\n",
      "j is  15\n",
      "j is  16\n",
      "j is  17\n",
      "j is  18\n",
      "j is  19\n",
      "j is  20\n",
      "j is  21\n",
      "j is  22\n",
      "j is  23\n",
      "j is  24\n",
      "j is  25\n",
      "j is  26\n",
      "j is  27\n",
      "j is  28\n",
      "j is  29\n",
      "j is  30\n",
      "j is  31\n",
      "j is  32\n",
      "j is  33\n",
      "j is  34\n",
      "j is  35\n",
      "j is  36\n",
      "j is  37\n",
      "j is  38\n",
      "j is  39\n",
      "j is  40\n",
      "j is  41\n",
      "j is  42\n",
      "j is  43\n",
      "j is  44\n",
      "j is  45\n",
      "j is  46\n",
      "j is  47\n",
      "j is  48\n",
      "j is  49\n",
      "j is  50\n",
      "j is  51\n",
      "j is  52\n",
      "j is  53\n",
      "j is  54\n",
      "j is  55\n",
      "j is  56\n",
      "j is  57\n",
      "j is  58\n",
      "j is  59\n",
      "j is  60\n",
      "j is  61\n",
      "j is  62\n",
      "j is  63\n",
      "j is  64\n",
      "j is  65\n",
      "j is  66\n",
      "j is  67\n",
      "j is  68\n",
      "j is  69\n",
      "j is  70\n",
      "j is  71\n",
      "j is  72\n",
      "value of I is 74\n",
      "j is  2\n",
      "value of I is 75\n",
      "j is  2\n",
      "j is  3\n",
      "value of I is 76\n",
      "j is  2\n",
      "value of I is 77\n",
      "j is  2\n",
      "j is  3\n",
      "j is  4\n",
      "j is  5\n",
      "j is  6\n",
      "j is  7\n",
      "value of I is 78\n",
      "j is  2\n",
      "value of I is 79\n",
      "j is  2\n",
      "j is  3\n",
      "j is  4\n",
      "j is  5\n",
      "j is  6\n",
      "j is  7\n",
      "j is  8\n",
      "j is  9\n",
      "j is  10\n",
      "j is  11\n",
      "j is  12\n",
      "j is  13\n",
      "j is  14\n",
      "j is  15\n",
      "j is  16\n",
      "j is  17\n",
      "j is  18\n",
      "j is  19\n",
      "j is  20\n",
      "j is  21\n",
      "j is  22\n",
      "j is  23\n",
      "j is  24\n",
      "j is  25\n",
      "j is  26\n",
      "j is  27\n",
      "j is  28\n",
      "j is  29\n",
      "j is  30\n",
      "j is  31\n",
      "j is  32\n",
      "j is  33\n",
      "j is  34\n",
      "j is  35\n",
      "j is  36\n",
      "j is  37\n",
      "j is  38\n",
      "j is  39\n",
      "j is  40\n",
      "j is  41\n",
      "j is  42\n",
      "j is  43\n",
      "j is  44\n",
      "j is  45\n",
      "j is  46\n",
      "j is  47\n",
      "j is  48\n",
      "j is  49\n",
      "j is  50\n",
      "j is  51\n",
      "j is  52\n",
      "j is  53\n",
      "j is  54\n",
      "j is  55\n",
      "j is  56\n",
      "j is  57\n",
      "j is  58\n",
      "j is  59\n",
      "j is  60\n",
      "j is  61\n",
      "j is  62\n",
      "j is  63\n",
      "j is  64\n",
      "j is  65\n",
      "j is  66\n",
      "j is  67\n",
      "j is  68\n",
      "j is  69\n",
      "j is  70\n",
      "j is  71\n",
      "j is  72\n",
      "j is  73\n",
      "j is  74\n",
      "j is  75\n",
      "j is  76\n",
      "j is  77\n",
      "j is  78\n",
      "value of I is 80\n",
      "j is  2\n",
      "value of I is 81\n",
      "j is  2\n",
      "j is  3\n",
      "value of I is 82\n",
      "j is  2\n",
      "value of I is 83\n",
      "j is  2\n",
      "j is  3\n",
      "j is  4\n",
      "j is  5\n",
      "j is  6\n",
      "j is  7\n",
      "j is  8\n",
      "j is  9\n",
      "j is  10\n",
      "j is  11\n",
      "j is  12\n",
      "j is  13\n",
      "j is  14\n",
      "j is  15\n",
      "j is  16\n",
      "j is  17\n",
      "j is  18\n",
      "j is  19\n",
      "j is  20\n",
      "j is  21\n",
      "j is  22\n",
      "j is  23\n",
      "j is  24\n",
      "j is  25\n",
      "j is  26\n",
      "j is  27\n",
      "j is  28\n",
      "j is  29\n",
      "j is  30\n",
      "j is  31\n",
      "j is  32\n",
      "j is  33\n",
      "j is  34\n",
      "j is  35\n",
      "j is  36\n",
      "j is  37\n",
      "j is  38\n",
      "j is  39\n",
      "j is  40\n",
      "j is  41\n",
      "j is  42\n",
      "j is  43\n",
      "j is  44\n",
      "j is  45\n",
      "j is  46\n",
      "j is  47\n",
      "j is  48\n",
      "j is  49\n",
      "j is  50\n",
      "j is  51\n",
      "j is  52\n",
      "j is  53\n",
      "j is  54\n",
      "j is  55\n",
      "j is  56\n",
      "j is  57\n",
      "j is  58\n",
      "j is  59\n",
      "j is  60\n",
      "j is  61\n",
      "j is  62\n",
      "j is  63\n",
      "j is  64\n",
      "j is  65\n",
      "j is  66\n",
      "j is  67\n",
      "j is  68\n",
      "j is  69\n",
      "j is  70\n",
      "j is  71\n",
      "j is  72\n",
      "j is  73\n",
      "j is  74\n",
      "j is  75\n",
      "j is  76\n",
      "j is  77\n",
      "j is  78\n",
      "j is  79\n",
      "j is  80\n",
      "j is  81\n",
      "j is  82\n",
      "value of I is 84\n",
      "j is  2\n",
      "value of I is 85\n",
      "j is  2\n",
      "j is  3\n",
      "j is  4\n",
      "j is  5\n",
      "value of I is 86\n",
      "j is  2\n",
      "value of I is 87\n",
      "j is  2\n",
      "j is  3\n",
      "value of I is 88\n",
      "j is  2\n",
      "value of I is 89\n",
      "j is  2\n",
      "j is  3\n",
      "j is  4\n",
      "j is  5\n",
      "j is  6\n",
      "j is  7\n",
      "j is  8\n",
      "j is  9\n",
      "j is  10\n",
      "j is  11\n",
      "j is  12\n",
      "j is  13\n",
      "j is  14\n",
      "j is  15\n",
      "j is  16\n",
      "j is  17\n",
      "j is  18\n",
      "j is  19\n",
      "j is  20\n",
      "j is  21\n",
      "j is  22\n",
      "j is  23\n",
      "j is  24\n",
      "j is  25\n",
      "j is  26\n",
      "j is  27\n",
      "j is  28\n",
      "j is  29\n",
      "j is  30\n",
      "j is  31\n",
      "j is  32\n",
      "j is  33\n",
      "j is  34\n",
      "j is  35\n",
      "j is  36\n",
      "j is  37\n",
      "j is  38\n",
      "j is  39\n",
      "j is  40\n",
      "j is  41\n",
      "j is  42\n",
      "j is  43\n",
      "j is  44\n",
      "j is  45\n",
      "j is  46\n",
      "j is  47\n",
      "j is  48\n",
      "j is  49\n",
      "j is  50\n",
      "j is  51\n",
      "j is  52\n",
      "j is  53\n",
      "j is  54\n",
      "j is  55\n",
      "j is  56\n",
      "j is  57\n",
      "j is  58\n",
      "j is  59\n",
      "j is  60\n",
      "j is  61\n",
      "j is  62\n",
      "j is  63\n",
      "j is  64\n",
      "j is  65\n",
      "j is  66\n",
      "j is  67\n",
      "j is  68\n",
      "j is  69\n",
      "j is  70\n",
      "j is  71\n",
      "j is  72\n",
      "j is  73\n",
      "j is  74\n",
      "j is  75\n",
      "j is  76\n",
      "j is  77\n",
      "j is  78\n",
      "j is  79\n",
      "j is  80\n",
      "j is  81\n",
      "j is  82\n",
      "j is  83\n",
      "j is  84\n",
      "j is  85\n",
      "j is  86\n",
      "j is  87\n",
      "j is  88\n",
      "value of I is 90\n",
      "j is  2\n",
      "value of I is 91\n",
      "j is  2\n",
      "j is  3\n",
      "j is  4\n",
      "j is  5\n",
      "j is  6\n",
      "j is  7\n",
      "value of I is 92\n",
      "j is  2\n",
      "value of I is 93\n",
      "j is  2\n",
      "j is  3\n",
      "value of I is 94\n",
      "j is  2\n",
      "value of I is 95\n",
      "j is  2\n",
      "j is  3\n",
      "j is  4\n",
      "j is  5\n",
      "value of I is 96\n",
      "j is  2\n",
      "value of I is 97\n",
      "j is  2\n",
      "j is  3\n",
      "j is  4\n",
      "j is  5\n",
      "j is  6\n",
      "j is  7\n",
      "j is  8\n",
      "j is  9\n",
      "j is  10\n",
      "j is  11\n",
      "j is  12\n",
      "j is  13\n",
      "j is  14\n",
      "j is  15\n",
      "j is  16\n",
      "j is  17\n",
      "j is  18\n",
      "j is  19\n",
      "j is  20\n",
      "j is  21\n",
      "j is  22\n",
      "j is  23\n",
      "j is  24\n",
      "j is  25\n",
      "j is  26\n",
      "j is  27\n",
      "j is  28\n",
      "j is  29\n",
      "j is  30\n",
      "j is  31\n",
      "j is  32\n",
      "j is  33\n",
      "j is  34\n",
      "j is  35\n",
      "j is  36\n",
      "j is  37\n",
      "j is  38\n",
      "j is  39\n",
      "j is  40\n",
      "j is  41\n",
      "j is  42\n",
      "j is  43\n",
      "j is  44\n",
      "j is  45\n",
      "j is  46\n",
      "j is  47\n",
      "j is  48\n",
      "j is  49\n",
      "j is  50\n",
      "j is  51\n",
      "j is  52\n",
      "j is  53\n",
      "j is  54\n",
      "j is  55\n",
      "j is  56\n",
      "j is  57\n",
      "j is  58\n",
      "j is  59\n",
      "j is  60\n",
      "j is  61\n",
      "j is  62\n",
      "j is  63\n",
      "j is  64\n",
      "j is  65\n",
      "j is  66\n",
      "j is  67\n",
      "j is  68\n",
      "j is  69\n",
      "j is  70\n",
      "j is  71\n",
      "j is  72\n",
      "j is  73\n",
      "j is  74\n",
      "j is  75\n",
      "j is  76\n",
      "j is  77\n",
      "j is  78\n",
      "j is  79\n",
      "j is  80\n",
      "j is  81\n",
      "j is  82\n",
      "j is  83\n",
      "j is  84\n",
      "j is  85\n",
      "j is  86\n",
      "j is  87\n",
      "j is  88\n",
      "j is  89\n",
      "j is  90\n",
      "j is  91\n",
      "j is  92\n",
      "j is  93\n",
      "j is  94\n",
      "j is  95\n",
      "j is  96\n",
      "value of I is 98\n",
      "j is  2\n",
      "value of I is 99\n",
      "j is  2\n",
      "j is  3\n",
      "value of I is 100\n",
      "j is  2\n",
      "[2, 3, 5, 7, 11, 13, 17, 19, 23, 29, 31, 37, 41, 43, 47, 53, 59, 61, 67, 71, 73, 79, 83, 89, 97]\n",
      "25\n"
     ]
    }
   ],
   "source": [
    "count_primes(100)"
   ]
  },
  {
   "cell_type": "code",
   "execution_count": 79,
   "metadata": {},
   "outputs": [
    {
     "data": {
      "text/plain": [
       "(2,\n",
       " 3,\n",
       " 5,\n",
       " 7,\n",
       " 11,\n",
       " 13,\n",
       " 17,\n",
       " 19,\n",
       " 23,\n",
       " 29,\n",
       " 31,\n",
       " 37,\n",
       " 41,\n",
       " 43,\n",
       " 47,\n",
       " 53,\n",
       " 59,\n",
       " 61,\n",
       " 67,\n",
       " 71,\n",
       " 73,\n",
       " 79,\n",
       " 83,\n",
       " 89,\n",
       " 97)"
      ]
     },
     "execution_count": 79,
     "metadata": {},
     "output_type": "execute_result"
    }
   ],
   "source": [
    " 2, 3, 5, 7, 11, 13, 17, 19, 23, 29, 31, 37, 41, 43, 47, 53, 59, 61, 67, 71, 73, 79, 83, 89, 97"
   ]
  },
  {
   "cell_type": "code",
   "execution_count": 80,
   "metadata": {},
   "outputs": [],
   "source": [
    "d1={\"A\":\"v1\"}"
   ]
  },
  {
   "cell_type": "code",
   "execution_count": 81,
   "metadata": {},
   "outputs": [
    {
     "data": {
      "text/plain": [
       "'v1'"
      ]
     },
     "execution_count": 81,
     "metadata": {},
     "output_type": "execute_result"
    }
   ],
   "source": [
    "d1[\"A\"]"
   ]
  },
  {
   "cell_type": "code",
   "execution_count": null,
   "metadata": {},
   "outputs": [],
   "source": [
    "d1={\"A\":\"\"}"
   ]
  }
 ],
 "metadata": {
  "kernelspec": {
   "display_name": "Python 3",
   "language": "python",
   "name": "python3"
  },
  "language_info": {
   "codemirror_mode": {
    "name": "ipython",
    "version": 3
   },
   "file_extension": ".py",
   "mimetype": "text/x-python",
   "name": "python",
   "nbconvert_exporter": "python",
   "pygments_lexer": "ipython3",
   "version": "3.7.0"
  }
 },
 "nbformat": 4,
 "nbformat_minor": 2
}
