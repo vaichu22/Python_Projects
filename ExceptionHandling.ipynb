{
 "cells": [
  {
   "cell_type": "code",
   "execution_count": 1,
   "metadata": {},
   "outputs": [],
   "source": [
    "#try\n",
    "#except\n",
    "#finally / else"
   ]
  },
  {
   "cell_type": "code",
   "execution_count": 3,
   "metadata": {},
   "outputs": [
    {
     "name": "stdout",
     "output_type": "stream",
     "text": [
      "20\n",
      "I will execute no matter what\n"
     ]
    }
   ],
   "source": [
    "try:\n",
    "    result=10+10\n",
    "    print(result)\n",
    "except:\n",
    "    print(\"There is an error.\")\n",
    "finally:\n",
    "    print(\"I will execute no matter what\")"
   ]
  },
  {
   "cell_type": "code",
   "execution_count": 6,
   "metadata": {},
   "outputs": [
    {
     "name": "stdout",
     "output_type": "stream",
     "text": [
      "There is type error (i.e) unable to add int and str\n"
     ]
    }
   ],
   "source": [
    "try:\n",
    "    result=10+'60'\n",
    "    \n",
    "except TypeError:     #go to python.org documentation to find built-in exceptions\n",
    "    print(\"There is type error (i.e) unable to add int and str\")\n",
    "else:\n",
    "    print(result)"
   ]
  },
  {
   "cell_type": "code",
   "execution_count": 9,
   "metadata": {},
   "outputs": [
    {
     "name": "stdout",
     "output_type": "stream",
     "text": [
      "written successfully\n"
     ]
    }
   ],
   "source": [
    "try:\n",
    "    f=open(\"writefile1.txt\",'a')\n",
    "    f.write(\"It's a sample text file\")\n",
    "except:\n",
    "    print(\"There is an exception\")\n",
    "else:\n",
    "    print(\"written successfully\")"
   ]
  },
  {
   "cell_type": "code",
   "execution_count": 10,
   "metadata": {},
   "outputs": [
    {
     "name": "stdout",
     "output_type": "stream",
     "text": [
      "Error in file\n"
     ]
    }
   ],
   "source": [
    "try:\n",
    "    f=open(\"ex.txt\",\"r\")\n",
    "    f.write(\"sample txt file\")\n",
    "except OSError:\n",
    "    print(\"Error in file\")\n",
    "else:\n",
    "    print(\"written successsfully\")"
   ]
  },
  {
   "cell_type": "code",
   "execution_count": 11,
   "metadata": {},
   "outputs": [
    {
     "name": "stdout",
     "output_type": "stream",
     "text": [
      "Enter a number:q\n",
      "It's not a number\n"
     ]
    }
   ],
   "source": [
    "try:\n",
    "    result=int(input(\"Enter a number:\"))\n",
    "except:\n",
    "    print(\"It's not a number\")\n",
    "else:\n",
    "    print(\"Thank you\")"
   ]
  },
  {
   "cell_type": "code",
   "execution_count": 14,
   "metadata": {},
   "outputs": [],
   "source": [
    "def ask_a_number():\n",
    "    while True:\n",
    "        try:\n",
    "            result=int(input(\"Enter a number:\"))\n",
    "        except:\n",
    "            print(\"It's not a number\")\n",
    "            continue   #without continue, it will work\n",
    "        else:\n",
    "            print(\"Thank you\")\n",
    "            break"
   ]
  },
  {
   "cell_type": "code",
   "execution_count": 15,
   "metadata": {},
   "outputs": [
    {
     "name": "stdout",
     "output_type": "stream",
     "text": [
      "Enter a number:fyhfg\n",
      "It's not a number\n",
      "Enter a number:jgj\n",
      "It's not a number\n",
      "Enter a number:tyt\n",
      "It's not a number\n",
      "Enter a number:@\n",
      "It's not a number\n",
      "Enter a number:*()\n",
      "It's not a number\n",
      "Enter a number:78\n",
      "Thank you\n"
     ]
    }
   ],
   "source": [
    "ask_a_number()"
   ]
  },
  {
   "cell_type": "code",
   "execution_count": 16,
   "metadata": {},
   "outputs": [
    {
     "name": "stdout",
     "output_type": "stream",
     "text": [
      "Elements in list are not integers to carry out pow operation\n"
     ]
    }
   ],
   "source": [
    "try:\n",
    "    for i in ['a','b','c']:\n",
    "        print(i**2)\n",
    "except TypeError:\n",
    "    print(\"Elements in list are not integers to carry out pow operation\")"
   ]
  },
  {
   "cell_type": "code",
   "execution_count": 17,
   "metadata": {},
   "outputs": [
    {
     "name": "stdout",
     "output_type": "stream",
     "text": [
      "x cannot be divided by zero\n",
      "All Done\n"
     ]
    }
   ],
   "source": [
    "x = 5\n",
    "y = 0\n",
    "\n",
    "try:    \n",
    "    z = x/y\n",
    "except ZeroDivisionError:\n",
    "    print(\"x cannot be divided by zero\")\n",
    "finally:\n",
    "    print(\"All Done\")"
   ]
  },
  {
   "cell_type": "code",
   "execution_count": 25,
   "metadata": {},
   "outputs": [],
   "source": [
    "def ask():\n",
    "    while True:\n",
    "        try:\n",
    "            input1=int(input(\"Input an integer:\"))\n",
    "        except:\n",
    "            print(\"An error occurred! Please try again!\")\n",
    "            \n",
    "        else:\n",
    "            print(f\"Thank you, your number squared is: {input1**2}\")\n",
    "            break"
   ]
  },
  {
   "cell_type": "code",
   "execution_count": 26,
   "metadata": {},
   "outputs": [
    {
     "name": "stdout",
     "output_type": "stream",
     "text": [
      "Input an integer:null\n",
      "An error occurred! Please try again!\n",
      "Input an integer:3\n",
      "Thank you, your number squared is: 9\n"
     ]
    }
   ],
   "source": [
    "ask()"
   ]
  },
  {
   "cell_type": "code",
   "execution_count": null,
   "metadata": {},
   "outputs": [],
   "source": []
  }
 ],
 "metadata": {
  "kernelspec": {
   "display_name": "Python 3",
   "language": "python",
   "name": "python3"
  },
  "language_info": {
   "codemirror_mode": {
    "name": "ipython",
    "version": 3
   },
   "file_extension": ".py",
   "mimetype": "text/x-python",
   "name": "python",
   "nbconvert_exporter": "python",
   "pygments_lexer": "ipython3",
   "version": "3.7.0"
  }
 },
 "nbformat": 4,
 "nbformat_minor": 2
}
