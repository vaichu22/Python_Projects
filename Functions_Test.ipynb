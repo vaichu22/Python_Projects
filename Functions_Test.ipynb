{
 "cells": [
  {
   "cell_type": "code",
   "execution_count": 3,
   "metadata": {},
   "outputs": [],
   "source": [
    "def vol(rad):\n",
    "    volume=((4/3)*3.14*rad**3)\n",
    "    return volume"
   ]
  },
  {
   "cell_type": "code",
   "execution_count": 4,
   "metadata": {},
   "outputs": [
    {
     "data": {
      "text/plain": [
       "33.49333333333333"
      ]
     },
     "execution_count": 4,
     "metadata": {},
     "output_type": "execute_result"
    }
   ],
   "source": [
    "vol(2)"
   ]
  },
  {
   "cell_type": "code",
   "execution_count": 5,
   "metadata": {},
   "outputs": [],
   "source": [
    "def vol(rad):\n",
    "    return ((4/3)*3.14*rad**3)"
   ]
  },
  {
   "cell_type": "code",
   "execution_count": 6,
   "metadata": {},
   "outputs": [
    {
     "data": {
      "text/plain": [
       "33.49333333333333"
      ]
     },
     "execution_count": 6,
     "metadata": {},
     "output_type": "execute_result"
    }
   ],
   "source": [
    "vol(2)"
   ]
  },
  {
   "cell_type": "code",
   "execution_count": 59,
   "metadata": {},
   "outputs": [],
   "source": [
    "def ran_check(num,low,high):\n",
    "    for i in range(low,high+1):\n",
    "        if num==i:\n",
    "            print(f'{num} is in the range between {low} and {high}')\n",
    "  "
   ]
  },
  {
   "cell_type": "code",
   "execution_count": 60,
   "metadata": {},
   "outputs": [
    {
     "name": "stdout",
     "output_type": "stream",
     "text": [
      "3 is in the range between 1 and 10\n"
     ]
    }
   ],
   "source": [
    "ran_check(3,1,10)"
   ]
  },
  {
   "cell_type": "code",
   "execution_count": 28,
   "metadata": {},
   "outputs": [],
   "source": [
    "def ran_check(num,low,high):\n",
    "    for i in range(low,high+1):\n",
    "        if num==i:\n",
    "            return True\n",
    "        else:\n",
    "            return False"
   ]
  },
  {
   "cell_type": "code",
   "execution_count": 29,
   "metadata": {},
   "outputs": [
    {
     "data": {
      "text/plain": [
       "False"
      ]
     },
     "execution_count": 29,
     "metadata": {},
     "output_type": "execute_result"
    }
   ],
   "source": [
    "ran_check(3,1,10)"
   ]
  },
  {
   "cell_type": "code",
   "execution_count": 56,
   "metadata": {},
   "outputs": [],
   "source": [
    "def ran_bool(num,low,high):\n",
    "    bools=False\n",
    "    for i in range(low,high+1):\n",
    "        if num==i:\n",
    "            bools=True\n",
    "    return bools"
   ]
  },
  {
   "cell_type": "code",
   "execution_count": 58,
   "metadata": {},
   "outputs": [
    {
     "data": {
      "text/plain": [
       "True"
      ]
     },
     "execution_count": 58,
     "metadata": {},
     "output_type": "execute_result"
    }
   ],
   "source": [
    "ran_bool(6,2,7)"
   ]
  },
  {
   "cell_type": "code",
   "execution_count": 79,
   "metadata": {},
   "outputs": [],
   "source": [
    "def up_low(s):\n",
    "    list1=[]\n",
    "    list2=[]\n",
    "    for letter in s:\n",
    "        if letter.isupper():\n",
    "            list1.append(letter)\n",
    "        elif letter.islower():\n",
    "            list2.append(letter)\n",
    "    print(f'No. of Upper case characters : {len(list1)}')\n",
    "    print(f'No. of Upper case characters : {len(list2)}')"
   ]
  },
  {
   "cell_type": "code",
   "execution_count": 80,
   "metadata": {},
   "outputs": [
    {
     "name": "stdout",
     "output_type": "stream",
     "text": [
      "No. of Upper case characters : 4\n",
      "No. of Upper case characters : 33\n"
     ]
    }
   ],
   "source": [
    "s = 'Hello Mr. Rogers, how are you this fine Tuesday?'\n",
    "up_low(s)"
   ]
  },
  {
   "cell_type": "code",
   "execution_count": 81,
   "metadata": {},
   "outputs": [],
   "source": [
    "def sample(s):\n",
    "    print(s.upper())"
   ]
  },
  {
   "cell_type": "code",
   "execution_count": 82,
   "metadata": {},
   "outputs": [
    {
     "name": "stdout",
     "output_type": "stream",
     "text": [
      "VVV\n"
     ]
    }
   ],
   "source": [
    "sample('vvv')"
   ]
  },
  {
   "cell_type": "code",
   "execution_count": 85,
   "metadata": {},
   "outputs": [],
   "source": [
    "def unique_list(lst):\n",
    "    return list(set(lst))"
   ]
  },
  {
   "cell_type": "code",
   "execution_count": 86,
   "metadata": {},
   "outputs": [
    {
     "data": {
      "text/plain": [
       "[1, 2, 3, 4, 5]"
      ]
     },
     "execution_count": 86,
     "metadata": {},
     "output_type": "execute_result"
    }
   ],
   "source": [
    "unique_list([1,1,1,1,2,2,3,3,3,3,4,5])"
   ]
  },
  {
   "cell_type": "code",
   "execution_count": 108,
   "metadata": {},
   "outputs": [],
   "source": [
    "def multiply(numbers):  \n",
    "    ans=1\n",
    "    for num in numbers:\n",
    "        ans=ans*num\n",
    "    return ans\n",
    "        "
   ]
  },
  {
   "cell_type": "code",
   "execution_count": 109,
   "metadata": {},
   "outputs": [
    {
     "data": {
      "text/plain": [
       "-16"
      ]
     },
     "execution_count": 109,
     "metadata": {},
     "output_type": "execute_result"
    }
   ],
   "source": [
    "multiply([1,2,2,-4])"
   ]
  },
  {
   "cell_type": "code",
   "execution_count": 114,
   "metadata": {},
   "outputs": [],
   "source": [
    "def palindrome(s):\n",
    "    if s ==s[::-1]:\n",
    "        return True"
   ]
  },
  {
   "cell_type": "code",
   "execution_count": 118,
   "metadata": {},
   "outputs": [
    {
     "data": {
      "text/plain": [
       "True"
      ]
     },
     "execution_count": 118,
     "metadata": {},
     "output_type": "execute_result"
    }
   ],
   "source": [
    "palindrome('helleh')"
   ]
  },
  {
   "cell_type": "code",
   "execution_count": 121,
   "metadata": {},
   "outputs": [],
   "source": [
    "import string\n",
    "\n",
    "def ispangram(str1, alphabet=string.ascii_lowercase):\n",
    "    print(alphabet)"
   ]
  },
  {
   "cell_type": "code",
   "execution_count": 120,
   "metadata": {},
   "outputs": [
    {
     "name": "stdout",
     "output_type": "stream",
     "text": [
      "abcdefghijklmnopqrstuvwxyz\n"
     ]
    }
   ],
   "source": [
    "import string\n",
    "\n",
    "print(string.ascii_lowercase)\n",
    "\n"
   ]
  },
  {
   "cell_type": "code",
   "execution_count": 196,
   "metadata": {},
   "outputs": [],
   "source": [
    "import string\n",
    "\n",
    "def ispangram(str1, alphabet=string.ascii_lowercase):\n",
    "    list1=[]\n",
    "    list2=[]\n",
    "    list3=[]\n",
    "    #print(str1.lower())\n",
    "    for i in alphabet:\n",
    "        list1.append(i)\n",
    "    #print(list1)\n",
    "    for j in str1.lower():\n",
    "        list2.append(j)\n",
    "    #print(list2)\n",
    "    for i in range(0,len(list1)):\n",
    "        #print(len(list1))\n",
    "        #print(i)\n",
    "        if i == len(list1):\n",
    "            break;\n",
    "        elif list1[i] in list2:\n",
    "            list3.append(list1[i])\n",
    "        \n",
    "    #print(list3)  \n",
    "    if len(list3) == 26:\n",
    "        return True\n",
    "    \n",
    "        \n",
    "       \n",
    "            \n",
    "      "
   ]
  },
  {
   "cell_type": "code",
   "execution_count": 197,
   "metadata": {},
   "outputs": [
    {
     "data": {
      "text/plain": [
       "True"
      ]
     },
     "execution_count": 197,
     "metadata": {},
     "output_type": "execute_result"
    }
   ],
   "source": [
    "ispangram('abcdefghijklmnopqrstuvwxyz')"
   ]
  },
  {
   "cell_type": "code",
   "execution_count": 155,
   "metadata": {},
   "outputs": [],
   "source": [
    "list1=['a','v']"
   ]
  },
  {
   "cell_type": "code",
   "execution_count": 158,
   "metadata": {},
   "outputs": [
    {
     "data": {
      "text/plain": [
       "'a'"
      ]
     },
     "execution_count": 158,
     "metadata": {},
     "output_type": "execute_result"
    }
   ],
   "source": [
    "list1.pop(0)"
   ]
  },
  {
   "cell_type": "code",
   "execution_count": 167,
   "metadata": {},
   "outputs": [
    {
     "name": "stdout",
     "output_type": "stream",
     "text": [
      "a\n"
     ]
    }
   ],
   "source": [
    "list1=['a','b']\n",
    "\n",
    "print(list1[0])"
   ]
  },
  {
   "cell_type": "code",
   "execution_count": 205,
   "metadata": {},
   "outputs": [
    {
     "data": {
      "text/plain": [
       "string.Formatter"
      ]
     },
     "execution_count": 205,
     "metadata": {},
     "output_type": "execute_result"
    }
   ],
   "source": [
    "import string\n",
    "\n",
    "string.Formatter\n"
   ]
  },
  {
   "cell_type": "code",
   "execution_count": 210,
   "metadata": {},
   "outputs": [],
   "source": [
    "import string\n",
    "\n",
    "def ispangram(str1, alphabet=string.ascii_lowercase):  \n",
    "    alphaset = set(alphabet)  \n",
    "    print(alphaset)\n",
    "    print(set(str1.lower()))\n",
    "    return alphaset <= set(str1.lower()) "
   ]
  },
  {
   "cell_type": "code",
   "execution_count": 211,
   "metadata": {},
   "outputs": [
    {
     "name": "stdout",
     "output_type": "stream",
     "text": [
      "{'t', 'j', 'u', 'm', 'g', 'r', 'f', 'h', 'p', 'd', 's', 'y', 'e', 'x', 'z', 'w', 'a', 'n', 'o', 'b', 'q', 'i', 'l', 'v', 'c', 'k'}\n",
      "{'t', 'u', 'j', 'm', 'g', 'r', 'f', 'h', 'p', 'd', 's', 'y', 'e', 'x', 'z', 'w', 'a', 'n', ' ', 'o', 'b', 'q', 'i', 'l', 'v', 'c', 'k'}\n"
     ]
    },
    {
     "data": {
      "text/plain": [
       "True"
      ]
     },
     "execution_count": 211,
     "metadata": {},
     "output_type": "execute_result"
    }
   ],
   "source": [
    "ispangram(\"The quick brown fox jumps over the lazy dog\")"
   ]
  },
  {
   "cell_type": "code",
   "execution_count": 212,
   "metadata": {},
   "outputs": [],
   "source": [
    "d={'P1','P2'}"
   ]
  },
  {
   "cell_type": "code",
   "execution_count": 213,
   "metadata": {},
   "outputs": [
    {
     "data": {
      "text/plain": [
       "{'P1', 'P2'}"
      ]
     },
     "execution_count": 213,
     "metadata": {},
     "output_type": "execute_result"
    }
   ],
   "source": [
    "d"
   ]
  },
  {
   "cell_type": "code",
   "execution_count": null,
   "metadata": {},
   "outputs": [],
   "source": [
    "d={'P1':0,'P2':0}\n",
    "\n",
    "a=input(\"enter a letter:\")\n",
    "d['P1']=a\n",
    "print(d)\n",
    "\n",
    "if d['P1'] =='X':\n",
    "    d['P2']='O'\n",
    "elif d['P1'] =='O':\n",
    "    d['P2']='X'\n",
    "    \n",
    "print(d)\n",
    "\n",
    "board=[[1,2,3],[4,5,6],[7,8,9]]\n",
    "\n",
    "\n",
    "\n",
    "ques=input(\"What to play? Yes/NO\")\n",
    "\n",
    "if ques==\"Yes\":\n",
    "    bools=True\n",
    "    while(bools):\n",
    "        choice=int(input('NO from 1 to 9 is'))\n",
    "        if choice in board:\n",
    "            print(\"yes\")\n",
    "        "
   ]
  },
  {
   "cell_type": "code",
   "execution_count": null,
   "metadata": {},
   "outputs": [],
   "source": []
  },
  {
   "cell_type": "code",
   "execution_count": null,
   "metadata": {},
   "outputs": [],
   "source": [
    "turn=d['P1']\n",
    "    choice=int(input('No from 1 to 9'))\n",
    "    if choice in board:\n",
    "        board=turn\n",
    "    turn=d['P2']\n",
    "print(board[0])"
   ]
  },
  {
   "cell_type": "code",
   "execution_count": 264,
   "metadata": {},
   "outputs": [
    {
     "name": "stdout",
     "output_type": "stream",
     "text": [
      "0\n",
      "(1, 2, 3)\n",
      "1\n",
      "(4, 5, 6)\n",
      "2\n",
      "(7, 8, 9)\n"
     ]
    }
   ],
   "source": [
    "board=[(1,2,3),(4,5,6),(7,8,9)]\n",
    "\n",
    "for a,b in enumerate(board):\n",
    "    print(a)\n",
    "    print(b)\n",
    "    "
   ]
  },
  {
   "cell_type": "code",
   "execution_count": 271,
   "metadata": {},
   "outputs": [
    {
     "ename": "TypeError",
     "evalue": "'list' object cannot be interpreted as an integer",
     "output_type": "error",
     "traceback": [
      "\u001b[0;31m---------------------------------------------------------------------------\u001b[0m",
      "\u001b[0;31mTypeError\u001b[0m                                 Traceback (most recent call last)",
      "\u001b[0;32m<ipython-input-271-557f20489d85>\u001b[0m in \u001b[0;36m<module>\u001b[0;34m()\u001b[0m\n\u001b[1;32m      1\u001b[0m \u001b[0;34m\u001b[0m\u001b[0m\n\u001b[1;32m      2\u001b[0m \u001b[0;34m\u001b[0m\u001b[0m\n\u001b[0;32m----> 3\u001b[0;31m \u001b[0;34m[\u001b[0m\u001b[0ma\u001b[0m \u001b[0;32mfor\u001b[0m \u001b[0ma\u001b[0m\u001b[0;34m,\u001b[0m\u001b[0mb\u001b[0m \u001b[0;32min\u001b[0m \u001b[0menumerate\u001b[0m\u001b[0;34m(\u001b[0m\u001b[0;34m[\u001b[0m\u001b[0;36m1\u001b[0m\u001b[0;34m,\u001b[0m\u001b[0;36m2\u001b[0m\u001b[0;34m,\u001b[0m\u001b[0;36m3\u001b[0m\u001b[0;34m]\u001b[0m\u001b[0;34m,\u001b[0m\u001b[0;34m[\u001b[0m\u001b[0;36m4\u001b[0m\u001b[0;34m,\u001b[0m\u001b[0;36m5\u001b[0m\u001b[0;34m,\u001b[0m\u001b[0;36m6\u001b[0m\u001b[0;34m]\u001b[0m\u001b[0;34m)\u001b[0m \u001b[0;32mif\u001b[0m \u001b[0mb\u001b[0m \u001b[0;34m==\u001b[0m \u001b[0;36m4\u001b[0m\u001b[0;34m]\u001b[0m\u001b[0;34m\u001b[0m\u001b[0m\n\u001b[0m",
      "\u001b[0;31mTypeError\u001b[0m: 'list' object cannot be interpreted as an integer"
     ]
    }
   ],
   "source": [
    "\n",
    "\n",
    "[a for a,b in enumerate([1,2,3],[4,5,6]) if b == 4]"
   ]
  },
  {
   "cell_type": "code",
   "execution_count": 272,
   "metadata": {},
   "outputs": [
    {
     "ename": "TypeError",
     "evalue": "'list' object cannot be interpreted as an integer",
     "output_type": "error",
     "traceback": [
      "\u001b[0;31m---------------------------------------------------------------------------\u001b[0m",
      "\u001b[0;31mTypeError\u001b[0m                                 Traceback (most recent call last)",
      "\u001b[0;32m<ipython-input-272-8a59840e707c>\u001b[0m in \u001b[0;36m<module>\u001b[0;34m()\u001b[0m\n\u001b[0;32m----> 1\u001b[0;31m \u001b[0;34m[\u001b[0m\u001b[0ma\u001b[0m \u001b[0;32mfor\u001b[0m \u001b[0ma\u001b[0m\u001b[0;34m,\u001b[0m\u001b[0mb\u001b[0m \u001b[0;32min\u001b[0m \u001b[0menumerate\u001b[0m\u001b[0;34m(\u001b[0m\u001b[0;34m[\u001b[0m\u001b[0;36m1\u001b[0m\u001b[0;34m,\u001b[0m \u001b[0;36m2\u001b[0m\u001b[0;34m,\u001b[0m \u001b[0;36m1\u001b[0m\u001b[0;34m]\u001b[0m\u001b[0;34m,\u001b[0m\u001b[0;34m[\u001b[0m\u001b[0;36m5\u001b[0m\u001b[0;34m,\u001b[0m\u001b[0;36m6\u001b[0m\u001b[0;34m,\u001b[0m\u001b[0;36m7\u001b[0m\u001b[0;34m]\u001b[0m\u001b[0;34m)\u001b[0m \u001b[0;32mif\u001b[0m \u001b[0mb\u001b[0m \u001b[0;34m==\u001b[0m \u001b[0;36m5\u001b[0m\u001b[0;34m]\u001b[0m\u001b[0;34m\u001b[0m\u001b[0m\n\u001b[0m",
      "\u001b[0;31mTypeError\u001b[0m: 'list' object cannot be interpreted as an integer"
     ]
    }
   ],
   "source": [
    "[a for a,b in enumerate([1, 2, 1],[5,6,7]) if b == 5]"
   ]
  },
  {
   "cell_type": "code",
   "execution_count": 2,
   "metadata": {},
   "outputs": [
    {
     "name": "stdout",
     "output_type": "stream",
     "text": [
      "Player 1- Enter a letter either 'X' or 'O'...X\n",
      "{'P1': 'X', 'P2': 'O'}\n",
      "Player 1 chose X and Player 2 chose O\n",
      "{'one': 1, 'two': 2, 'three': 3, 'four': 4, 'five': 5, 'six': 6, 'seven': 7, 'eight': 8, 'nine': 9}\n",
      "Player 1- Choose a num between 1 and 9...5\n",
      "Player 1 selected position 5\n",
      "{'one': 1, 'two': 2, 'three': 3, 'four': 4, 'five': 'X', 'six': 6, 'seven': 7, 'eight': 8, 'nine': 9}\n",
      "Player 2- Choose a num between 1 and 9...1\n",
      "Player 2 selected position 1\n",
      "{'one': 'O', 'two': 2, 'three': 3, 'four': 4, 'five': 'X', 'six': 6, 'seven': 7, 'eight': 8, 'nine': 9}\n",
      "Player 1- Choose a num between 1 and 9...9\n",
      "Player 1 selected position 9\n",
      "{'one': 'O', 'two': 2, 'three': 3, 'four': 4, 'five': 'X', 'six': 6, 'seven': 7, 'eight': 8, 'nine': 'X'}\n",
      "Player 2- Choose a num between 1 and 9...8\n",
      "Player 2 selected position 8\n",
      "{'one': 'O', 'two': 2, 'three': 3, 'four': 4, 'five': 'X', 'six': 6, 'seven': 7, 'eight': 'O', 'nine': 'X'}\n",
      "Player 1- Choose a num between 1 and 9...2\n",
      "Player 1 selected position 2\n",
      "{'one': 'O', 'two': 'X', 'three': 3, 'four': 4, 'five': 'X', 'six': 6, 'seven': 7, 'eight': 'O', 'nine': 'X'}\n",
      "Player 2- Choose a num between 1 and 9...3\n",
      "Player 2 selected position 3\n",
      "{'one': 'O', 'two': 'X', 'three': 'O', 'four': 4, 'five': 'X', 'six': 6, 'seven': 7, 'eight': 'O', 'nine': 'X'}\n",
      "Player 1- Choose a num between 1 and 9...6\n",
      "Player 1 selected position 6\n",
      "{'one': 'O', 'two': 'X', 'three': 'O', 'four': 4, 'five': 'X', 'six': 'X', 'seven': 7, 'eight': 'O', 'nine': 'X'}\n",
      "Player 2- Choose a num between 1 and 9...4\n",
      "Player 2 selected position 4\n",
      "{'one': 'O', 'two': 'X', 'three': 'O', 'four': 'O', 'five': 'X', 'six': 'X', 'seven': 7, 'eight': 'O', 'nine': 'X'}\n",
      "Player 1- Choose a num between 1 and 9...7\n",
      "Player 1 selected position 7\n",
      "{'one': 'O', 'two': 'X', 'three': 'O', 'four': 'O', 'five': 'X', 'six': 'X', 'seven': 'X', 'eight': 'O', 'nine': 'X'}\n",
      "It's a tie!\n"
     ]
    }
   ],
   "source": [
    "d={'P1':0,'P2':0}\n",
    "\n",
    "a=input(\"Player 1- Enter a letter either 'X' or 'O'...\")\n",
    "d['P1']=a\n",
    "\n",
    "\n",
    "if d['P1'] =='X':\n",
    "    d['P2']='O'\n",
    "elif d['P1'] =='O':\n",
    "    d['P2']='X'\n",
    "print(d)\n",
    "print(f\"Player 1 chose {d['P1']} and Player 2 chose {d['P2']}\")\n",
    "\n",
    "d1={'one':1,'two':2,'three':3,'four':4,'five':5,'six':6,'seven':7,'eight':8,'nine':9}\n",
    "print(d1)\n",
    "\n",
    "aa=int(input(\"Player 1- Choose a num between 1 and 9...\"))\n",
    "\n",
    "def func(aa,count):\n",
    "    #count=1\n",
    "    #print(\"2 times\")\n",
    "    for k,v in d1.items():\n",
    "        if v==aa and (count%2!=0) and count<10:     #if aa in d1.values() and (count%2!=0):\n",
    "            d1[k]=d['P1']\n",
    "            print(f\"Player 1 selected position {aa}\")\n",
    "            print(d1)\n",
    "            \n",
    "            \n",
    "            if (d1['one']==d1['two']==d1['three']==d['P1']) or (d1['one']==d1['four']==d1['seven']==d['P1']) or (d1['seven']==d1['eight']==d1['nine']==d['P1']) or (d1['three']==d1['six']==d1['nine']==d['P1']) or (d1['one']==d1['five']==d1['nine']==d['P1']) or (d1['three']==d1['five']==d1['seven']==d['P1']):\n",
    "                print(\"Player 1 won\")\n",
    "            else:\n",
    "                if count==9:   # To avoid getting additional input, since at this stage all the colums will be filled\n",
    "                    print(\"It's a tie!\")\n",
    "                    break\n",
    "                else:\n",
    "                    count+=1\n",
    "                    b=int(input(\"Player 2- Choose a num between 1 and 9...\"))\n",
    "                    aa=b\n",
    "                    func(aa,count);\n",
    "                \n",
    "        elif v==aa and (count%2==0) and count<10:\n",
    "            d1[k]=d['P2']\n",
    "            print(f\"Player 2 selected position {aa}\")\n",
    "            print(d1)\n",
    "            \n",
    "            if (d1['one']==d1['two']==d1['three']==d['P2']) or (d1['one']==d1['four']==d1['seven']==d['P2']) or (d1['seven']==d1['eight']==d1['nine']==d['P2']) or (d1['three']==d1['six']==d1['nine']==d['P2']) or (d1['one']==d1['five']==d1['nine']==d['P2']) or (d1['three']==d1['five']==d1['seven']==d['P2']):\n",
    "                print(\"Player 2 won\")\n",
    "            else:\n",
    "                count+=1\n",
    "                bb=int(input(\"Player 1- Choose a num between 1 and 9...\"))\n",
    "                aa=bb\n",
    "                func(aa,count);\n",
    "        elif count==10:\n",
    "            break\n",
    "            \n",
    "            \n",
    "\n",
    "\n",
    "count=1      \n",
    "func(aa,count);\n",
    "#print(\"Sorry! It's a tie!\")\n",
    "\n"
   ]
  },
  {
   "cell_type": "code",
   "execution_count": 8,
   "metadata": {},
   "outputs": [
    {
     "ename": "ValueError",
     "evalue": "4 is not in list",
     "output_type": "error",
     "traceback": [
      "\u001b[0;31m---------------------------------------------------------------------------\u001b[0m",
      "\u001b[0;31mValueError\u001b[0m                                Traceback (most recent call last)",
      "\u001b[0;32m<ipython-input-8-5764a9b019d1>\u001b[0m in \u001b[0;36m<module>\u001b[0;34m()\u001b[0m\n\u001b[1;32m      1\u001b[0m \u001b[0mx\u001b[0m \u001b[0;34m=\u001b[0m \u001b[0;34m[\u001b[0m\u001b[0;34m[\u001b[0m\u001b[0;36m1\u001b[0m\u001b[0;34m,\u001b[0m \u001b[0;36m2\u001b[0m\u001b[0;34m,\u001b[0m \u001b[0;36m3\u001b[0m\u001b[0;34m]\u001b[0m\u001b[0;34m,\u001b[0m \u001b[0;34m[\u001b[0m\u001b[0;36m2\u001b[0m\u001b[0;34m,\u001b[0m \u001b[0;36m3\u001b[0m\u001b[0;34m,\u001b[0m \u001b[0;36m4\u001b[0m\u001b[0;34m]\u001b[0m\u001b[0;34m]\u001b[0m\u001b[0;34m\u001b[0m\u001b[0m\n\u001b[1;32m      2\u001b[0m \u001b[0;34m\u001b[0m\u001b[0m\n\u001b[0;32m----> 3\u001b[0;31m \u001b[0many\u001b[0m\u001b[0;34m(\u001b[0m\u001b[0mx\u001b[0m\u001b[0;34m.\u001b[0m\u001b[0mindex\u001b[0m\u001b[0;34m(\u001b[0m\u001b[0;36m4\u001b[0m\u001b[0;34m)\u001b[0m \u001b[0;32mfor\u001b[0m \u001b[0msl\u001b[0m \u001b[0;32min\u001b[0m \u001b[0mx\u001b[0m\u001b[0;34m)\u001b[0m\u001b[0;34m\u001b[0m\u001b[0m\n\u001b[0m",
      "\u001b[0;32m<ipython-input-8-5764a9b019d1>\u001b[0m in \u001b[0;36m<genexpr>\u001b[0;34m(.0)\u001b[0m\n\u001b[1;32m      1\u001b[0m \u001b[0mx\u001b[0m \u001b[0;34m=\u001b[0m \u001b[0;34m[\u001b[0m\u001b[0;34m[\u001b[0m\u001b[0;36m1\u001b[0m\u001b[0;34m,\u001b[0m \u001b[0;36m2\u001b[0m\u001b[0;34m,\u001b[0m \u001b[0;36m3\u001b[0m\u001b[0;34m]\u001b[0m\u001b[0;34m,\u001b[0m \u001b[0;34m[\u001b[0m\u001b[0;36m2\u001b[0m\u001b[0;34m,\u001b[0m \u001b[0;36m3\u001b[0m\u001b[0;34m,\u001b[0m \u001b[0;36m4\u001b[0m\u001b[0;34m]\u001b[0m\u001b[0;34m]\u001b[0m\u001b[0;34m\u001b[0m\u001b[0m\n\u001b[1;32m      2\u001b[0m \u001b[0;34m\u001b[0m\u001b[0m\n\u001b[0;32m----> 3\u001b[0;31m \u001b[0many\u001b[0m\u001b[0;34m(\u001b[0m\u001b[0mx\u001b[0m\u001b[0;34m.\u001b[0m\u001b[0mindex\u001b[0m\u001b[0;34m(\u001b[0m\u001b[0;36m4\u001b[0m\u001b[0;34m)\u001b[0m \u001b[0;32mfor\u001b[0m \u001b[0msl\u001b[0m \u001b[0;32min\u001b[0m \u001b[0mx\u001b[0m\u001b[0;34m)\u001b[0m\u001b[0;34m\u001b[0m\u001b[0m\n\u001b[0m",
      "\u001b[0;31mValueError\u001b[0m: 4 is not in list"
     ]
    }
   ],
   "source": [
    "x = [[1, 2, 3], [2, 3, 4]]\n",
    "\n",
    "any(x.index(4) for sl in x)"
   ]
  },
  {
   "cell_type": "code",
   "execution_count": 10,
   "metadata": {},
   "outputs": [],
   "source": [
    "grid=[[1]*8 for n in range(8)]"
   ]
  },
  {
   "cell_type": "code",
   "execution_count": 11,
   "metadata": {},
   "outputs": [
    {
     "data": {
      "text/plain": [
       "[[1, 1, 1, 1, 1, 1, 1, 1],\n",
       " [1, 1, 1, 1, 1, 1, 1, 1],\n",
       " [1, 1, 1, 1, 1, 1, 1, 1],\n",
       " [1, 1, 1, 1, 1, 1, 1, 1],\n",
       " [1, 1, 1, 1, 1, 1, 1, 1],\n",
       " [1, 1, 1, 1, 1, 1, 1, 1],\n",
       " [1, 1, 1, 1, 1, 1, 1, 1],\n",
       " [1, 1, 1, 1, 1, 1, 1, 1]]"
      ]
     },
     "execution_count": 11,
     "metadata": {},
     "output_type": "execute_result"
    }
   ],
   "source": [
    "grid\n"
   ]
  },
  {
   "cell_type": "code",
   "execution_count": null,
   "metadata": {},
   "outputs": [],
   "source": [
    "import turtle\n",
    "\n",
    "board = turtle.Turtle()\n",
    "\n",
    "board.forward(100) # move forward\n",
    "board.right(90) # turn pen right 90 degrees\n",
    "\n",
    "board.forward(100)\n",
    "board.right(90)\n",
    "\n",
    "board.forward(100)\n",
    "board.right(90)\n",
    "\n",
    "board.forward(100)\n",
    "board.right(90)\n",
    "\n",
    "turtle.done()"
   ]
  },
  {
   "cell_type": "code",
   "execution_count": null,
   "metadata": {},
   "outputs": [],
   "source": [
    "import turtle\n",
    "\n",
    "def draw_box(t):\n",
    "    for i in range(0,4):\n",
    "        board.forward(100) # move forward\n",
    "        board.right(90) # turn pen right 90 degrees\n",
    "\n",
    "board = turtle.Turtle()\n",
    "\n",
    "draw_box(board)\n",
    "\n",
    "turtle.done()"
   ]
  },
  {
   "cell_type": "code",
   "execution_count": 14,
   "metadata": {},
   "outputs": [
    {
     "ename": "SyntaxError",
     "evalue": "invalid syntax (<ipython-input-14-870ac78a3c10>, line 1)",
     "output_type": "error",
     "traceback": [
      "\u001b[0;36m  File \u001b[0;32m\"<ipython-input-14-870ac78a3c10>\"\u001b[0;36m, line \u001b[0;32m1\u001b[0m\n\u001b[0;31m    print '\\n'.join(' '.join(map(str, x)) for x in board)\u001b[0m\n\u001b[0m             ^\u001b[0m\n\u001b[0;31mSyntaxError\u001b[0m\u001b[0;31m:\u001b[0m invalid syntax\n"
     ]
    }
   ],
   "source": [
    "print '\\n'.join(' '.join(map(str, x)) for x in board)"
   ]
  },
  {
   "cell_type": "code",
   "execution_count": null,
   "metadata": {},
   "outputs": [],
   "source": [
    "import turtle\n",
    "\n",
    "board = turtle.Turtle()\n",
    "\n",
    "board.forward(100) # move forward\n",
    "board.right(90) # turn pen right 90 degrees\n",
    "\n",
    "board.forward(100)\n",
    "board.right(90)\n",
    "\n",
    "board.forward(100)\n",
    "board.right(90)\n",
    "\n",
    "board.forward(100)\n",
    "board.right(90)\n",
    "\n",
    "turtle.done()"
   ]
  },
  {
   "cell_type": "code",
   "execution_count": 11,
   "metadata": {},
   "outputs": [
    {
     "name": "stdout",
     "output_type": "stream",
     "text": [
      "no\n"
     ]
    }
   ],
   "source": [
    "d={\"one\":'X',\"two\":'u',\"three\":'X'}\n",
    "\n",
    "choice=1\n",
    "\n",
    "if(d[\"one\"] and d[\"two\"]=='X'):\n",
    "    print(\"yes\")\n",
    "else:\n",
    "    print(\"no\")"
   ]
  },
  {
   "cell_type": "code",
   "execution_count": 1,
   "metadata": {},
   "outputs": [
    {
     "name": "stdout",
     "output_type": "stream",
     "text": [
      "hello\n"
     ]
    }
   ],
   "source": [
    "print('hello')"
   ]
  },
  {
   "cell_type": "code",
   "execution_count": 4,
   "metadata": {},
   "outputs": [
    {
     "name": "stdout",
     "output_type": "stream",
     "text": [
      "no\n"
     ]
    }
   ],
   "source": [
    "d={\"one\":'X',\"two\":'u',\"three\":'X'}\n",
    "\n",
    "choice=1\n",
    "\n",
    "if(d[\"one\"]==d[\"two\"]=='X'):\n",
    "    print(\"yes\")\n",
    "else:\n",
    "    print(\"no\")"
   ]
  },
  {
   "cell_type": "code",
   "execution_count": 15,
   "metadata": {},
   "outputs": [
    {
     "name": "stdout",
     "output_type": "stream",
     "text": [
      "X\n",
      "{'one': 'X', 'two': 2, 'three': 3}\n"
     ]
    }
   ],
   "source": [
    "d={'one':1,\"two\":2,\"three\":3}\n",
    "\n",
    "choice=1\n",
    "\n",
    "for k,v in d.items():\n",
    "    if v ==choice:\n",
    "        d[k]='X'\n",
    "        print(d[k])\n",
    "print(d)"
   ]
  },
  {
   "cell_type": "code",
   "execution_count": 2,
   "metadata": {},
   "outputs": [
    {
     "ename": "SyntaxError",
     "evalue": "EOL while scanning string literal (<ipython-input-2-8cb702315f1a>, line 1)",
     "output_type": "error",
     "traceback": [
      "\u001b[0;36m  File \u001b[0;32m\"<ipython-input-2-8cb702315f1a>\"\u001b[0;36m, line \u001b[0;32m1\u001b[0m\n\u001b[0;31m    if (d1['one']==d1['two']==d1['three']==d['P1']) or (d1['one']==d1['four']==d1['seven']==d['P1']) or (d1['seven']==d1['eight']==d1['nine']) or (d1['three']==d1['six']==d1['nine']==d['P1']) or (d1['one']==d1['f\u001b[0m\n\u001b[0m                                                                                                                                                                                                                    ^\u001b[0m\n\u001b[0;31mSyntaxError\u001b[0m\u001b[0;31m:\u001b[0m EOL while scanning string literal\n"
     ]
    }
   ],
   "source": [
    "if (d1['one']==d1['two']==d1['three']==d['P1']) or (d1['one']==d1['four']==d1['seven']==d['P1']) or (d1['seven']==d1['eight']==d1['nine']) or (d1['three']==d1['six']==d1['nine']==d['P1']) or (d1['one']==d1['f\n",
    "ive']==d1['nine']==d['P1'] or (d1['three']==d1['five']==d1['seven']==d['P1']))"
   ]
  },
  {
   "cell_type": "code",
   "execution_count": 2,
   "metadata": {},
   "outputs": [
    {
     "ename": "KeyError",
     "evalue": "1",
     "output_type": "error",
     "traceback": [
      "\u001b[0;31m---------------------------------------------------------------------------\u001b[0m",
      "\u001b[0;31mKeyError\u001b[0m                                  Traceback (most recent call last)",
      "\u001b[0;32m<ipython-input-2-34ee488df1d8>\u001b[0m in \u001b[0;36m<module>\u001b[0;34m()\u001b[0m\n\u001b[1;32m      1\u001b[0m \u001b[0md1\u001b[0m\u001b[0;34m=\u001b[0m\u001b[0;34m{\u001b[0m\u001b[0;34m'one'\u001b[0m\u001b[0;34m:\u001b[0m\u001b[0;36m1\u001b[0m\u001b[0;34m,\u001b[0m\u001b[0;34m'two'\u001b[0m\u001b[0;34m:\u001b[0m\u001b[0;36m2\u001b[0m\u001b[0;34m,\u001b[0m\u001b[0;34m'three'\u001b[0m\u001b[0;34m:\u001b[0m\u001b[0;36m3\u001b[0m\u001b[0;34m,\u001b[0m\u001b[0;34m'four'\u001b[0m\u001b[0;34m:\u001b[0m\u001b[0;36m4\u001b[0m\u001b[0;34m,\u001b[0m\u001b[0;34m'five'\u001b[0m\u001b[0;34m:\u001b[0m\u001b[0;36m5\u001b[0m\u001b[0;34m,\u001b[0m\u001b[0;34m'six'\u001b[0m\u001b[0;34m:\u001b[0m\u001b[0;36m6\u001b[0m\u001b[0;34m,\u001b[0m\u001b[0;34m'seven'\u001b[0m\u001b[0;34m:\u001b[0m\u001b[0;36m7\u001b[0m\u001b[0;34m,\u001b[0m\u001b[0;34m'eight'\u001b[0m\u001b[0;34m:\u001b[0m\u001b[0;36m8\u001b[0m\u001b[0;34m,\u001b[0m\u001b[0;34m'nine'\u001b[0m\u001b[0;34m:\u001b[0m\u001b[0;36m9\u001b[0m\u001b[0;34m}\u001b[0m\u001b[0;34m\u001b[0m\u001b[0m\n\u001b[1;32m      2\u001b[0m \u001b[0;34m\u001b[0m\u001b[0m\n\u001b[0;32m----> 3\u001b[0;31m \u001b[0mprint\u001b[0m\u001b[0;34m(\u001b[0m\u001b[0md1\u001b[0m\u001b[0;34m[\u001b[0m\u001b[0;36m1\u001b[0m\u001b[0;34m]\u001b[0m\u001b[0;34m)\u001b[0m\u001b[0;34m\u001b[0m\u001b[0m\n\u001b[0m",
      "\u001b[0;31mKeyError\u001b[0m: 1"
     ]
    }
   ],
   "source": [
    "d1={'one':1,'two':2,'three':3,'four':4,'five':5,'six':6,'seven':7,'eight':8,'nine':9}\n",
    "\n",
    "print()"
   ]
  },
  {
   "cell_type": "code",
   "execution_count": 3,
   "metadata": {},
   "outputs": [
    {
     "name": "stdout",
     "output_type": "stream",
     "text": [
      "45\n"
     ]
    }
   ],
   "source": [
    "a = [[1, 2, 3, 4], [5, 6], [7, 8, 9]]\n",
    "s = 0\n",
    "for i in range(len(a)):\n",
    "    for j in range(len(a[i])):\n",
    "        s += a[i][j]\n",
    "print(s)"
   ]
  },
  {
   "cell_type": "code",
   "execution_count": 4,
   "metadata": {},
   "outputs": [
    {
     "data": {
      "text/plain": [
       "['4', '1', '2']"
      ]
     },
     "execution_count": 4,
     "metadata": {},
     "output_type": "execute_result"
    }
   ],
   "source": [
    "[\"1\", \"1\", \"9\"]\n",
    "[\"2@3\", \"1*6\", \"7*2\"]\n",
    "[\"4\", \"1\", \"2\"]"
   ]
  },
  {
   "cell_type": "code",
   "execution_count": 1,
   "metadata": {},
   "outputs": [
    {
     "name": "stdout",
     "output_type": "stream",
     "text": [
      "Player 1- Enter a letter either 'X' or 'O'...X\n",
      "{'P1': 'X', 'P2': 'O'}\n",
      "Player 1 chose X and Player 2 chose O\n",
      "{'one': 1, 'two': 2, 'three': 3, 'four': 4, 'five': 5, 'six': 6, 'seven': 7, 'eight': 8, 'nine': 9}\n",
      "Player 1- Choose a num between 1 and 9...2\n",
      "Player 1 selected position 2\n",
      "{'one': 1, 'two': 'X', 'three': 3, 'four': 4, 'five': 5, 'six': 6, 'seven': 7, 'eight': 8, 'nine': 9}\n",
      "Player 2- Choose a num between 1 and 9...8\n",
      "Player 2 selected position 8\n",
      "{'one': 1, 'two': 'X', 'three': 3, 'four': 4, 'five': 5, 'six': 6, 'seven': 7, 'eight': 'O', 'nine': 9}\n",
      "Player 1- Choose a num between 1 and 9...3\n",
      "Player 1 selected position 3\n",
      "{'one': 1, 'two': 'X', 'three': 'X', 'four': 4, 'five': 5, 'six': 6, 'seven': 7, 'eight': 'O', 'nine': 9}\n",
      "Player 2- Choose a num between 1 and 9...6\n",
      "Player 2 selected position 6\n",
      "{'one': 1, 'two': 'X', 'three': 'X', 'four': 4, 'five': 5, 'six': 'O', 'seven': 7, 'eight': 'O', 'nine': 9}\n",
      "Player 1- Choose a num between 1 and 9...1\n",
      "Player 1 selected position 1\n",
      "{'one': 'X', 'two': 'X', 'three': 'X', 'four': 4, 'five': 5, 'six': 'O', 'seven': 7, 'eight': 'O', 'nine': 9}\n",
      "Player 1 won\n"
     ]
    }
   ],
   "source": [
    "d={'P1':0,'P2':0}\n",
    "\n",
    "a=input(\"Player 1- Enter a letter either 'X' or 'O'...\")\n",
    "d['P1']=a\n",
    "\n",
    "\n",
    "if d['P1'] =='X':\n",
    "    d['P2']='O'\n",
    "elif d['P1'] =='O':\n",
    "    d['P2']='X'\n",
    "print(d)\n",
    "print(f\"Player 1 chose {d['P1']} and Player 2 chose {d['P2']}\")\n",
    "\n",
    "d1={'one':1,'two':2,'three':3,'four':4,'five':5,'six':6,'seven':7,'eight':8,'nine':9}\n",
    "print(d1)\n",
    "\n",
    "aa=int(input(\"Player 1- Choose a num between 1 and 9...\"))\n",
    "\n",
    "def func(aa,count):\n",
    "    #count=1\n",
    "    #print(\"2 times\")\n",
    "    for k,v in d1.items():\n",
    "        if v==aa and (count%2!=0) and count<10:     #if aa in d1.values() and (count%2!=0):\n",
    "            d1[k]=d['P1']\n",
    "            print(f\"Player 1 selected position {aa}\")\n",
    "            print(d1)\n",
    "            \n",
    "            \n",
    "            if (d1['one']==d1['two']==d1['three']==d['P1']) or (d1['one']==d1['four']==d1['seven']==d['P1']) or (d1['seven']==d1['eight']==d1['nine']==d['P1']) or (d1['three']==d1['six']==d1['nine']==d['P1']) or (d1['one']==d1['five']==d1['nine']==d['P1']) or (d1['three']==d1['five']==d1['seven']==d['P1']):\n",
    "                print(\"Player 1 won\")\n",
    "            else:\n",
    "                if count==9:   # To avoid getting additional input, since at this stage all the colums will be filled\n",
    "                    print(\"It's a tie!\")\n",
    "                    break\n",
    "                else:\n",
    "                    count+=1\n",
    "                    b=int(input(\"Player 2- Choose a num between 1 and 9...\"))\n",
    "                    aa=b\n",
    "                    func(aa,count);\n",
    "                \n",
    "        elif v==aa and (count%2==0) and count<10:\n",
    "            d1[k]=d['P2']\n",
    "            print(f\"Player 2 selected position {aa}\")\n",
    "            print(d1)\n",
    "            \n",
    "            if (d1['one']==d1['two']==d1['three']==d['P2']) or (d1['one']==d1['four']==d1['seven']==d['P2']) or (d1['seven']==d1['eight']==d1['nine']==d['P2']) or (d1['three']==d1['six']==d1['nine']==d['P2']) or (d1['one']==d1['five']==d1['nine']==d['P2']) or (d1['three']==d1['five']==d1['seven']==d['P2']):\n",
    "                print(\"Player 2 won\")\n",
    "            else:\n",
    "                count+=1\n",
    "                bb=int(input(\"Player 1- Choose a num between 1 and 9...\"))\n",
    "                aa=bb\n",
    "                func(aa,count);\n",
    "        elif count==10:\n",
    "            break\n",
    "            \n",
    "            \n",
    "\n",
    "\n",
    "count=1      \n",
    "func(aa,count);\n",
    "#print(\"Sorry! It's a tie!\")\n",
    "\n"
   ]
  },
  {
   "cell_type": "code",
   "execution_count": null,
   "metadata": {},
   "outputs": [],
   "source": []
  }
 ],
 "metadata": {
  "kernelspec": {
   "display_name": "Python 3",
   "language": "python",
   "name": "python3"
  },
  "language_info": {
   "codemirror_mode": {
    "name": "ipython",
    "version": 3
   },
   "file_extension": ".py",
   "mimetype": "text/x-python",
   "name": "python",
   "nbconvert_exporter": "python",
   "pygments_lexer": "ipython3",
   "version": "3.7.0"
  }
 },
 "nbformat": 4,
 "nbformat_minor": 2
}
