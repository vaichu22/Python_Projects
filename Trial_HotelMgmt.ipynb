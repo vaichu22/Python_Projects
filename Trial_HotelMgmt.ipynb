{
 "cells": [
  {
   "cell_type": "code",
   "execution_count": 6,
   "metadata": {},
   "outputs": [
    {
     "name": "stdout",
     "output_type": "stream",
     "text": [
      "Welcome to XXX Hotel\n",
      "Available rooms in each category with price rate\n",
      "Single rooms - 5. Each costs 800 per day\n",
      "Double room - 200. Each costs 1200 per day\n",
      "Suite - 20. Each costs 2000 per day\n",
      "Connecting room - 1. Each costs 1600 per day\n",
      "Enter the room type(single/double/suite/connecting)connecting\n",
      "ENter total number of rooms to be reserved10\n",
      "Only 1 is available. Select within the range.\n",
      "ENter total number of rooms to be reserved-1\n",
      "Number of rooms selected should not be either 0 or negative value\n",
      "ENter total number of rooms to be reserved \n",
      "ENter a valid number\n",
      "ENter total number of rooms to be reserved01\n",
      "ENter total days of stay: 2\n",
      "Ammount to be paid for 1 connecting room for 2 day(s) is 3200\n",
      "Available connecting rooms- 0\n",
      "Do you wanna continue booking? (y/n)y\n",
      "Enter the room type(single/double/suite/connecting)connecting\n",
      "No connecting room available\n",
      "Enter the room type(single/double/suite/connecting)double\n",
      "ENter total number of rooms to be reserved1\n",
      "ENter total days of stay: 01\n",
      "Ammount to be paid for 1 Double room for 1 day(s) is 1200\n",
      "Available Double rooms- 199\n",
      "Do you wanna continue booking? (y/n)y\n",
      "Enter the room type(single/double/suite/connecting)double\n",
      "ENter total number of rooms to be reserved010\n",
      "ENter total days of stay: 010\n",
      "Ammount to be paid for 10 Double room for 10 day(s) is 120000\n",
      "Available Double rooms- 189\n",
      "Do you wanna continue booking? (y/n)yui\n",
      "Invalid input. Enter either y or n\n",
      "Do you wanna continue booking? (y/n) \n",
      "Invalid input. Enter either y or n\n",
      "Do you wanna continue booking? (y/n)n\n",
      "Total amount to be paid-- 124400\n",
      "Thanks\n"
     ]
    }
   ],
   "source": [
    "\n",
    "class RoomReservation():\n",
    "    \n",
    "    print(\"Welcome to XXX Hotel\")\n",
    "    \n",
    "    \n",
    "    def available_rooms(self):\n",
    "        self.single=5\n",
    "        self.double=200\n",
    "        self.suite=20\n",
    "        self.connecting=1\n",
    "        \n",
    "        return self.single,self.double,self.suite,self.connecting\n",
    "        \n",
    "    def cost_per_day(self):\n",
    "        self.single_c=800\n",
    "        self.double_c=1200\n",
    "        self.suite_c=2000\n",
    "        self.connecting_c=1600\n",
    "        \n",
    "        return self.single_c,self.double_c,self.suite_c,self.connecting_c\n",
    "        \n",
    "    def display_available_rooms(self):\n",
    "        print(\"Available rooms in each category with price rate\")\n",
    "        print(f\"Single rooms - {self.single}. Each costs {self.single_c} per day\")\n",
    "        print(f\"Double room - {self.double}. Each costs {self.double_c} per day\")\n",
    "        print(f\"Suite - {self.suite}. Each costs {self.suite_c} per day\")\n",
    "        print(f\"Connecting room - {self.connecting}. Each costs {self.connecting_c} per day\")\n",
    "        \n",
    "\n",
    "    \n",
    "    def booking_process(self,func,func1):\n",
    "        \n",
    "        total=0\n",
    "        further_booking=False\n",
    "        setState=False\n",
    "        self.single,self.double,self.suite,self.connecting=func()\n",
    "        self.single_c,self.double_c,self.suite_c,self.connecting_c=func1()\n",
    "        \n",
    "        while True:\n",
    "            room=input(\"Enter the room type(single/double/suite/connecting)\")\n",
    "            \n",
    "            if room=='single' and self.single>0:\n",
    "                while True:\n",
    "                    try:\n",
    "                        no_of_rooms=int(input(\"ENter total number of rooms to be reserved\"))\n",
    "                        \n",
    "                    except:\n",
    "                        print(\"ENter a valid number\")\n",
    "                        continue\n",
    "                    else:\n",
    "                        #self.single_c*=no_of_rooms\n",
    "                        if no_of_rooms<=0:\n",
    "                            print(\"Number of rooms selected should not be either 0 or negative value\")\n",
    "                            continue\n",
    "                        if no_of_rooms<=self.single:\n",
    "                            no_of_days=int(input(\"ENter total days of stay: \"))\n",
    "                            self.single-=no_of_rooms\n",
    "                            total+=self.single_c* no_of_rooms * no_of_days\n",
    "                            print(f\"Ammount to be paid for {no_of_rooms} single room for {no_of_days} day(s) is {self.single_c* no_of_rooms*no_of_days}\")\n",
    "                            print(f\"Available single rooms- {self.single}\")\n",
    "                            further_booking=True\n",
    "                            break\n",
    "                        elif no_of_rooms>self.single:\n",
    "                            print(f\"Only {self.single} is available. Select within the range.\")\n",
    "                            continue\n",
    "                        \n",
    "            elif room=='double' and self.double>0:\n",
    "                while True:\n",
    "                    try:\n",
    "                        no_of_rooms=int(input(\"ENter total number of rooms to be reserved\"))\n",
    "                        \n",
    "                    except:\n",
    "                        print(\"ENter a valid number\")\n",
    "                        continue\n",
    "                    else:\n",
    "                        \n",
    "                        if no_of_rooms<=0:\n",
    "                            print(\"Number of rooms selected should not be either 0 or negative value\")\n",
    "                            continue\n",
    "                        if no_of_rooms<=self.double:\n",
    "                            no_of_days=int(input(\"ENter total days of stay: \"))\n",
    "                            self.double-=no_of_rooms\n",
    "                            total+=self.double_c* no_of_rooms * no_of_days\n",
    "                            print(f\"Ammount to be paid for {no_of_rooms} Double room for {no_of_days} day(s) is {self.double_c* no_of_rooms*no_of_days}\")\n",
    "                            print(f\"Available Double rooms- {self.double}\")\n",
    "                            further_booking=True\n",
    "                            break\n",
    "                        elif no_of_rooms>self.double:\n",
    "                            print(f\"Only {self.double} is available. Select within the range.\")\n",
    "                            continue\n",
    "                        \n",
    "            elif room=='suite' and self.suite>0:\n",
    "                while True:\n",
    "                    try:\n",
    "                        no_of_rooms=int(input(\"ENter total number of rooms to be reserved\"))\n",
    "                        \n",
    "                    except:\n",
    "                        print(\"ENter a valid number\")\n",
    "                        continue\n",
    "                    else:\n",
    "                        \n",
    "                        if no_of_rooms<=0:\n",
    "                            print(\"Number of rooms selected should not be either 0 or negative value\")\n",
    "                            continue\n",
    "                        if no_of_rooms<=self.suite:\n",
    "                            no_of_days=int(input(\"ENter total days of stay: \"))\n",
    "                            self.suite-=no_of_rooms\n",
    "                            total+=self.suite_c* no_of_rooms * no_of_days\n",
    "                            print(f\"Ammount to be paid for {no_of_rooms} suite for {no_of_days} day(s) is {self.suite_c* no_of_rooms*no_of_days}\")\n",
    "                            print(f\"Available suite- {self.suite}\")\n",
    "                            further_booking=True\n",
    "                            break\n",
    "                        elif no_of_rooms>self.suite:\n",
    "                            print(f\"Only {self.suite} is available. Select within the range.\")\n",
    "                            continue\n",
    "                        \n",
    "            elif room=='connecting' and self.connecting>0:\n",
    "                while True:\n",
    "                    try:\n",
    "                        no_of_rooms=int(input(\"ENter total number of rooms to be reserved\"))\n",
    "                        \n",
    "                    except:\n",
    "                        print(\"ENter a valid number\")\n",
    "                        continue\n",
    "                    else:\n",
    "                        \n",
    "                        if no_of_rooms<=0:\n",
    "                            print(\"Number of rooms selected should not be either 0 or negative value\")\n",
    "                            continue\n",
    "                        if no_of_rooms<=self.connecting:\n",
    "                            no_of_days=int(input(\"ENter total days of stay: \"))\n",
    "                            self.connecting-=no_of_rooms\n",
    "                            total+=self.connecting_c* no_of_rooms * no_of_days\n",
    "                            print(f\"Ammount to be paid for {no_of_rooms} connecting room for {no_of_days} day(s) is {self.connecting_c* no_of_rooms*no_of_days}\")\n",
    "                            print(f\"Available connecting rooms- {self.connecting}\")\n",
    "                            further_booking=True\n",
    "                            break\n",
    "                        elif no_of_rooms>self.connecting:\n",
    "                            print(f\"Only {self.connecting} is available. Select within the range.\")\n",
    "                            continue\n",
    "                        \n",
    "            elif room=='single' and self.single==0:\n",
    "                print(\"No single room available\")\n",
    "                continue\n",
    "                \n",
    "            elif room=='double' and self.double==0:\n",
    "                print(\"No double room available\")\n",
    "                continue\n",
    "                \n",
    "            elif room=='suite' and self.suite==0:\n",
    "                print(\"No suite available\")\n",
    "                continue\n",
    "                \n",
    "            elif room=='connecting' and self.connecting==0:\n",
    "                print(\"No connecting room available\")\n",
    "                continue\n",
    "\n",
    "\n",
    "            elif room !='single' or room!='double' or room!='suite' or room!='connecting':\n",
    "                print(\"Choose one among these--->single/double/suite/connecting\")\n",
    "                continue\n",
    "\n",
    "                    \n",
    "            if further_booking==True:\n",
    "                while(True):\n",
    "                    go_ahead=input(\"Do you wanna continue booking? (y/n)\")\n",
    "                    if go_ahead.lower()=='y':\n",
    "                        setState=True\n",
    "                        break\n",
    "                    elif go_ahead.lower()=='n':\n",
    "                        print(f\"Total amount to be paid-- {total}\")\n",
    "                        print(\"Thanks\")\n",
    "                        setState=False\n",
    "                        break\n",
    "                    else:\n",
    "                        print(\"Invalid input. Enter either y or n\")\n",
    "                        continue\n",
    "                        \n",
    "            if setState==True:\n",
    "                continue\n",
    "            elif setState==False:\n",
    "                break\n",
    "                        \n",
    "                \n",
    "rr=RoomReservation()\n",
    "rr.available_rooms()\n",
    "rr.cost_per_day()\n",
    "rr.display_available_rooms()\n",
    "rr.booking_process(rr.available_rooms,rr.cost_per_day)\n"
   ]
  },
  {
   "cell_type": "code",
   "execution_count": 9,
   "metadata": {},
   "outputs": [],
   "source": [
    "class Sample:\n",
    "\n",
    "    def available_rooms(self,single,double,suite,connecting):\n",
    "        self.single=single\n",
    "        self.double=double\n",
    "        self.suite=suite\n",
    "        self.connecting=connecting\n",
    "\n",
    "        def cost_per_day(self):\n",
    "            self.single_c=800\n",
    "            self.double_c=1200\n",
    "            self.suite_c=2000\n",
    "            self.connecting_c=1600\n",
    "        return cost_per_day\n",
    "  \n",
    "        \n",
    "    "
   ]
  },
  {
   "cell_type": "code",
   "execution_count": 10,
   "metadata": {},
   "outputs": [],
   "source": [
    "d= Sample()"
   ]
  },
  {
   "cell_type": "code",
   "execution_count": 11,
   "metadata": {},
   "outputs": [
    {
     "data": {
      "text/plain": [
       "<function __main__.Sample.available_rooms.<locals>.cost_per_day(self)>"
      ]
     },
     "execution_count": 11,
     "metadata": {},
     "output_type": "execute_result"
    }
   ],
   "source": [
    "d.available_rooms(100,200,20,5)"
   ]
  },
  {
   "cell_type": "code",
   "execution_count": 2,
   "metadata": {},
   "outputs": [
    {
     "name": "stdout",
     "output_type": "stream",
     "text": [
      "sdfdsdfsdf\n"
     ]
    }
   ],
   "source": [
    "book=True\n",
    "while(book):\n",
    "    print(\"sdfdsdfsdf\")\n",
    "    break"
   ]
  },
  {
   "cell_type": "code",
   "execution_count": 2,
   "metadata": {},
   "outputs": [],
   "source": [
    "def sample(tot):\n",
    "    tot=0\n",
    "    print(\"gjg\")\n",
    "    while True:\n",
    "        if tot>1 and tot<10:\n",
    "            tot+=15\n",
    "            print(f\"1st {tot}\")\n",
    "        elif tot>11:\n",
    "            sample(tot)\n",
    "            print(f\"2nd {tot}\")\n",
    "            break\n",
    "              "
   ]
  },
  {
   "cell_type": "code",
   "execution_count": 3,
   "metadata": {},
   "outputs": [
    {
     "name": "stdout",
     "output_type": "stream",
     "text": [
      "gjg\n"
     ]
    },
    {
     "ename": "KeyboardInterrupt",
     "evalue": "",
     "output_type": "error",
     "traceback": [
      "\u001b[0;31m---------------------------------------------------------------------------\u001b[0m",
      "\u001b[0;31mKeyboardInterrupt\u001b[0m                         Traceback (most recent call last)",
      "\u001b[0;32m<ipython-input-3-d7bdf7a96624>\u001b[0m in \u001b[0;36m<module>\u001b[0;34m()\u001b[0m\n\u001b[0;32m----> 1\u001b[0;31m \u001b[0msample\u001b[0m\u001b[0;34m(\u001b[0m\u001b[0;36m2\u001b[0m\u001b[0;34m)\u001b[0m\u001b[0;34m\u001b[0m\u001b[0m\n\u001b[0m",
      "\u001b[0;32m<ipython-input-2-1303e6f78b18>\u001b[0m in \u001b[0;36msample\u001b[0;34m(tot)\u001b[0m\n\u001b[1;32m      3\u001b[0m     \u001b[0mprint\u001b[0m\u001b[0;34m(\u001b[0m\u001b[0;34m\"gjg\"\u001b[0m\u001b[0;34m)\u001b[0m\u001b[0;34m\u001b[0m\u001b[0m\n\u001b[1;32m      4\u001b[0m     \u001b[0;32mwhile\u001b[0m \u001b[0;32mTrue\u001b[0m\u001b[0;34m:\u001b[0m\u001b[0;34m\u001b[0m\u001b[0m\n\u001b[0;32m----> 5\u001b[0;31m         \u001b[0;32mif\u001b[0m \u001b[0mtot\u001b[0m\u001b[0;34m>\u001b[0m\u001b[0;36m1\u001b[0m \u001b[0;32mand\u001b[0m \u001b[0mtot\u001b[0m\u001b[0;34m<\u001b[0m\u001b[0;36m10\u001b[0m\u001b[0;34m:\u001b[0m\u001b[0;34m\u001b[0m\u001b[0m\n\u001b[0m\u001b[1;32m      6\u001b[0m             \u001b[0mtot\u001b[0m\u001b[0;34m+=\u001b[0m\u001b[0;36m15\u001b[0m\u001b[0;34m\u001b[0m\u001b[0m\n\u001b[1;32m      7\u001b[0m             \u001b[0mprint\u001b[0m\u001b[0;34m(\u001b[0m\u001b[0;34mf\"1st {tot}\"\u001b[0m\u001b[0;34m)\u001b[0m\u001b[0;34m\u001b[0m\u001b[0m\n",
      "\u001b[0;31mKeyboardInterrupt\u001b[0m: "
     ]
    }
   ],
   "source": [
    "sample(2)"
   ]
  },
  {
   "cell_type": "code",
   "execution_count": 1,
   "metadata": {},
   "outputs": [
    {
     "name": "stdout",
     "output_type": "stream",
     "text": [
      "gjkjhj\n"
     ]
    }
   ],
   "source": [
    "print(\"gjkjhj\")"
   ]
  },
  {
   "cell_type": "code",
   "execution_count": 1,
   "metadata": {},
   "outputs": [],
   "source": [
    "def sample1():\n",
    "    find=True\n",
    "    while True:\n",
    "        print(\"i am first\")\n",
    "        while True:\n",
    "            if find==True:\n",
    "                go_ahead=input(\"Do you wanna continue booking? (y/n)\")\n",
    "                \n",
    "                if go_ahead.lower()=='y':\n",
    "                    break\n",
    "\n",
    "                elif go_ahead.lower()=='n':\n",
    "                    print(f\"Total amount to be paid-- {total}\")\n",
    "                    print(\"Thanks\")\n",
    "                    break\n",
    "                else:\n",
    "                    print(\"Select either y/n\")\n",
    "                    go_ahead=input(\"Do you wanna continue booking? (y/n)\")\n",
    "        #break\n",
    "                    "
   ]
  },
  {
   "cell_type": "code",
   "execution_count": 2,
   "metadata": {},
   "outputs": [
    {
     "name": "stdout",
     "output_type": "stream",
     "text": [
      "i am first\n",
      "Do you wanna continue booking? (y/n)y\n",
      "i am first\n",
      "Do you wanna continue booking? (y/n)n\n"
     ]
    },
    {
     "ename": "NameError",
     "evalue": "name 'total' is not defined",
     "output_type": "error",
     "traceback": [
      "\u001b[0;31m---------------------------------------------------------------------------\u001b[0m",
      "\u001b[0;31mNameError\u001b[0m                                 Traceback (most recent call last)",
      "\u001b[0;32m<ipython-input-2-b477fd1ef3bd>\u001b[0m in \u001b[0;36m<module>\u001b[0;34m()\u001b[0m\n\u001b[0;32m----> 1\u001b[0;31m \u001b[0msample1\u001b[0m\u001b[0;34m(\u001b[0m\u001b[0;34m)\u001b[0m\u001b[0;34m\u001b[0m\u001b[0m\n\u001b[0m",
      "\u001b[0;32m<ipython-input-1-2daa437cd6cd>\u001b[0m in \u001b[0;36msample1\u001b[0;34m()\u001b[0m\n\u001b[1;32m     11\u001b[0m \u001b[0;34m\u001b[0m\u001b[0m\n\u001b[1;32m     12\u001b[0m                 \u001b[0;32melif\u001b[0m \u001b[0mgo_ahead\u001b[0m\u001b[0;34m.\u001b[0m\u001b[0mlower\u001b[0m\u001b[0;34m(\u001b[0m\u001b[0;34m)\u001b[0m\u001b[0;34m==\u001b[0m\u001b[0;34m'n'\u001b[0m\u001b[0;34m:\u001b[0m\u001b[0;34m\u001b[0m\u001b[0m\n\u001b[0;32m---> 13\u001b[0;31m                     \u001b[0mprint\u001b[0m\u001b[0;34m(\u001b[0m\u001b[0;34mf\"Total amount to be paid-- {total}\"\u001b[0m\u001b[0;34m)\u001b[0m\u001b[0;34m\u001b[0m\u001b[0m\n\u001b[0m\u001b[1;32m     14\u001b[0m                     \u001b[0mprint\u001b[0m\u001b[0;34m(\u001b[0m\u001b[0;34m\"Thanks\"\u001b[0m\u001b[0;34m)\u001b[0m\u001b[0;34m\u001b[0m\u001b[0m\n\u001b[1;32m     15\u001b[0m                     \u001b[0;32mbreak\u001b[0m\u001b[0;34m\u001b[0m\u001b[0m\n",
      "\u001b[0;31mNameError\u001b[0m: name 'total' is not defined"
     ]
    }
   ],
   "source": [
    "sample1()"
   ]
  },
  {
   "cell_type": "code",
   "execution_count": null,
   "metadata": {},
   "outputs": [],
   "source": []
  }
 ],
 "metadata": {
  "kernelspec": {
   "display_name": "Python 3",
   "language": "python",
   "name": "python3"
  },
  "language_info": {
   "codemirror_mode": {
    "name": "ipython",
    "version": 3
   },
   "file_extension": ".py",
   "mimetype": "text/x-python",
   "name": "python",
   "nbconvert_exporter": "python",
   "pygments_lexer": "ipython3",
   "version": "3.7.0"
  }
 },
 "nbformat": 4,
 "nbformat_minor": 2
}
